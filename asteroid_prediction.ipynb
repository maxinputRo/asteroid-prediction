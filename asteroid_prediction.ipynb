{
  "nbformat": 4,
  "nbformat_minor": 5,
  "metadata": {
    "colab": {
      "name": "asteroid-prediction.ipynb",
      "provenance": []
    },
    "kernelspec": {
      "display_name": "Python 3 (ipykernel)",
      "language": "python",
      "name": "python3"
    },
    "language_info": {
      "codemirror_mode": {
        "name": "ipython",
        "version": 3
      },
      "file_extension": ".py",
      "mimetype": "text/x-python",
      "name": "python",
      "nbconvert_exporter": "python",
      "pygments_lexer": "ipython3",
      "version": "3.9.6"
    }
  },
  "cells": [
    {
      "cell_type": "code",
      "metadata": {
        "id": "9bf4dec1"
      },
      "source": [
        "# Jovian Commit Essentials\n",
        "# Please retain and execute this cell without modifying the contents for `jovian.commit` to work\n",
        "!pip install jovian --upgrade -q\n",
        "import jovian\n",
        "jovian.set_project('asteroid-prediction')\n",
        "jovian.set_colab_id('1P1MeNqsDjAw12a7Jwl6ZFVN9NhVvcO6F')"
      ],
      "id": "9bf4dec1",
      "execution_count": 83,
      "outputs": []
    },
    {
      "cell_type": "markdown",
      "metadata": {
        "id": "c3417314"
      },
      "source": [
        "# Problem Statement\n",
        "Asteroids are small, rocky objects that orbit the Sun. There are many asteroids in solar system and most of them are located in the main asteroid belt, between the orbits of Mars and Jupiter. The size of asteroids vary vastly with their diameters ranging from a couple of meters to hundreds of kilometers. \n",
        "<br>The objective of this project is to predict the diameter of asteroids using various models.\n",
        "\n",
        "Dataset: https://www.kaggle.com/basu369victor/prediction-of-asteroid-diameter\n",
        "\n",
        "***\n",
        "![](https://imgur.com/Qg8puRD.jpeg)\n"
      ],
      "id": "c3417314"
    },
    {
      "cell_type": "markdown",
      "metadata": {
        "id": "TLbQM8TeEhah"
      },
      "source": [
        "We are going to use the following libraries to process, analyze and visualize our data."
      ],
      "id": "TLbQM8TeEhah"
    },
    {
      "cell_type": "code",
      "metadata": {
        "id": "0586123f"
      },
      "source": [
        "!pip install numpy pandas matplotlib seaborn --quiet"
      ],
      "id": "0586123f",
      "execution_count": 5,
      "outputs": []
    },
    {
      "cell_type": "markdown",
      "metadata": {
        "id": "-cFAGwHuE8aJ"
      },
      "source": [
        "The following code will install the required machine learning libraries. The opendatasets library will be used to download the data from kaggle.\n",
        "\n"
      ],
      "id": "-cFAGwHuE8aJ"
    },
    {
      "cell_type": "code",
      "metadata": {
        "colab": {
          "base_uri": "https://localhost:8080/",
          "height": 0
        },
        "id": "4450c910",
        "outputId": "5e6eef5c-8103-472c-d488-f360db1c1751"
      },
      "source": [
        "!pip install jovian opendatasets xgboost graphviz lightgbm scikit-learn xgboost lightgbm --upgrade --quiet"
      ],
      "id": "4450c910",
      "execution_count": 6,
      "outputs": [
        {
          "output_type": "stream",
          "name": "stdout",
          "text": [
            "\u001b[K     |████████████████████████████████| 166.7 MB 17 kB/s \n",
            "\u001b[K     |████████████████████████████████| 2.0 MB 50.6 MB/s \n",
            "\u001b[K     |████████████████████████████████| 22.3 MB 1.4 MB/s \n",
            "\u001b[?25h"
          ]
        }
      ]
    },
    {
      "cell_type": "markdown",
      "metadata": {
        "id": "84ae9173"
      },
      "source": [
        "## Downloading the Data"
      ],
      "id": "84ae9173"
    },
    {
      "cell_type": "code",
      "metadata": {
        "id": "7d6a6f70"
      },
      "source": [
        "import os\n",
        "import opendatasets as od\n",
        "import pandas as pd\n",
        "from sklearn.model_selection import train_test_split\n",
        "pd.set_option(\"display.max_columns\", 120)\n",
        "pd.set_option(\"display.max_rows\", 120)"
      ],
      "id": "7d6a6f70",
      "execution_count": 7,
      "outputs": []
    },
    {
      "cell_type": "code",
      "metadata": {
        "colab": {
          "base_uri": "https://localhost:8080/",
          "height": 0
        },
        "id": "85343bbb",
        "outputId": "d88d3f0a-bb3e-4c69-9c5f-7f8261ffac26"
      },
      "source": [
        "od.download('https://www.kaggle.com/basu369victor/prediction-of-asteroid-diameter')"
      ],
      "id": "85343bbb",
      "execution_count": 8,
      "outputs": [
        {
          "output_type": "stream",
          "name": "stdout",
          "text": [
            "Please provide your Kaggle credentials to download this dataset. Learn more: http://bit.ly/kaggle-creds\n",
            "Your Kaggle username: sakshatpatil\n",
            "Your Kaggle Key: ··········\n",
            "Downloading prediction-of-asteroid-diameter.zip to ./prediction-of-asteroid-diameter\n"
          ]
        },
        {
          "output_type": "stream",
          "name": "stderr",
          "text": [
            "100%|██████████| 161M/161M [00:01<00:00, 115MB/s]\n"
          ]
        },
        {
          "output_type": "stream",
          "name": "stdout",
          "text": [
            "\n"
          ]
        }
      ]
    },
    {
      "cell_type": "code",
      "metadata": {
        "colab": {
          "base_uri": "https://localhost:8080/",
          "height": 0
        },
        "id": "85e4348e",
        "outputId": "ae68b9e2-8717-4766-ac69-ca93e3e61e8e"
      },
      "source": [
        "os.listdir('prediction-of-asteroid-diameter')"
      ],
      "id": "85e4348e",
      "execution_count": 9,
      "outputs": [
        {
          "output_type": "execute_result",
          "data": {
            "text/plain": [
              "['Asteroid.csv', 'Asteroid_Updated.csv']"
            ]
          },
          "metadata": {},
          "execution_count": 9
        }
      ]
    },
    {
      "cell_type": "markdown",
      "metadata": {
        "id": "MtQLZbX-F9Vk"
      },
      "source": [
        "listdir diplays the files that are present in the directory. We have two file Asteroid.csv and Asteroid_Updated.csv . We will be using Asteroid.csv for our project. "
      ],
      "id": "MtQLZbX-F9Vk"
    },
    {
      "cell_type": "code",
      "metadata": {
        "id": "3b7ddfe3"
      },
      "source": [
        "asteroid_df = pd.read_csv('./prediction-of-asteroid-diameter/Asteroid.csv', low_memory=False)"
      ],
      "id": "3b7ddfe3",
      "execution_count": 10,
      "outputs": []
    },
    {
      "cell_type": "code",
      "metadata": {
        "colab": {
          "base_uri": "https://localhost:8080/",
          "height": 501
        },
        "id": "e23619cd",
        "scrolled": false,
        "outputId": "10e24b29-5d50-41c0-ad61-6bfaf5d6cfb4"
      },
      "source": [
        "asteroid_df"
      ],
      "id": "e23619cd",
      "execution_count": 11,
      "outputs": [
        {
          "output_type": "execute_result",
          "data": {
            "text/html": [
              "<div>\n",
              "<style scoped>\n",
              "    .dataframe tbody tr th:only-of-type {\n",
              "        vertical-align: middle;\n",
              "    }\n",
              "\n",
              "    .dataframe tbody tr th {\n",
              "        vertical-align: top;\n",
              "    }\n",
              "\n",
              "    .dataframe thead th {\n",
              "        text-align: right;\n",
              "    }\n",
              "</style>\n",
              "<table border=\"1\" class=\"dataframe\">\n",
              "  <thead>\n",
              "    <tr style=\"text-align: right;\">\n",
              "      <th></th>\n",
              "      <th>full_name</th>\n",
              "      <th>a</th>\n",
              "      <th>e</th>\n",
              "      <th>G</th>\n",
              "      <th>i</th>\n",
              "      <th>om</th>\n",
              "      <th>w</th>\n",
              "      <th>q</th>\n",
              "      <th>ad</th>\n",
              "      <th>per_y</th>\n",
              "      <th>data_arc</th>\n",
              "      <th>condition_code</th>\n",
              "      <th>n_obs_used</th>\n",
              "      <th>H</th>\n",
              "      <th>diameter</th>\n",
              "      <th>extent</th>\n",
              "      <th>albedo</th>\n",
              "      <th>rot_per</th>\n",
              "      <th>GM</th>\n",
              "      <th>BV</th>\n",
              "      <th>UB</th>\n",
              "      <th>IR</th>\n",
              "      <th>spec_B</th>\n",
              "      <th>spec_T</th>\n",
              "      <th>neo</th>\n",
              "      <th>pha</th>\n",
              "      <th>moid</th>\n",
              "    </tr>\n",
              "  </thead>\n",
              "  <tbody>\n",
              "    <tr>\n",
              "      <th>0</th>\n",
              "      <td>1 Ceres</td>\n",
              "      <td>2.769165</td>\n",
              "      <td>0.076009</td>\n",
              "      <td>0.12</td>\n",
              "      <td>10.594067</td>\n",
              "      <td>80.305532</td>\n",
              "      <td>73.597694</td>\n",
              "      <td>2.558684</td>\n",
              "      <td>2.979647</td>\n",
              "      <td>4.608202</td>\n",
              "      <td>8822.0</td>\n",
              "      <td>0</td>\n",
              "      <td>1002</td>\n",
              "      <td>3.340</td>\n",
              "      <td>939.4</td>\n",
              "      <td>964.4 x 964.2 x 891.8</td>\n",
              "      <td>0.0900</td>\n",
              "      <td>9.074170</td>\n",
              "      <td>62.6284</td>\n",
              "      <td>0.713</td>\n",
              "      <td>0.426</td>\n",
              "      <td>NaN</td>\n",
              "      <td>C</td>\n",
              "      <td>G</td>\n",
              "      <td>N</td>\n",
              "      <td>N</td>\n",
              "      <td>1.594780</td>\n",
              "    </tr>\n",
              "    <tr>\n",
              "      <th>1</th>\n",
              "      <td>2 Pallas</td>\n",
              "      <td>2.772466</td>\n",
              "      <td>0.230337</td>\n",
              "      <td>0.11</td>\n",
              "      <td>34.836234</td>\n",
              "      <td>173.080063</td>\n",
              "      <td>310.048857</td>\n",
              "      <td>2.133865</td>\n",
              "      <td>3.411067</td>\n",
              "      <td>4.616444</td>\n",
              "      <td>72318.0</td>\n",
              "      <td>0</td>\n",
              "      <td>8490</td>\n",
              "      <td>4.130</td>\n",
              "      <td>545</td>\n",
              "      <td>582x556x500</td>\n",
              "      <td>0.1010</td>\n",
              "      <td>7.813200</td>\n",
              "      <td>14.3000</td>\n",
              "      <td>0.635</td>\n",
              "      <td>0.284</td>\n",
              "      <td>NaN</td>\n",
              "      <td>B</td>\n",
              "      <td>B</td>\n",
              "      <td>N</td>\n",
              "      <td>N</td>\n",
              "      <td>1.233240</td>\n",
              "    </tr>\n",
              "    <tr>\n",
              "      <th>2</th>\n",
              "      <td>3 Juno</td>\n",
              "      <td>2.669150</td>\n",
              "      <td>0.256942</td>\n",
              "      <td>0.32</td>\n",
              "      <td>12.988919</td>\n",
              "      <td>169.852760</td>\n",
              "      <td>248.138626</td>\n",
              "      <td>1.983332</td>\n",
              "      <td>3.354967</td>\n",
              "      <td>4.360814</td>\n",
              "      <td>72684.0</td>\n",
              "      <td>0</td>\n",
              "      <td>7104</td>\n",
              "      <td>5.330</td>\n",
              "      <td>246.596</td>\n",
              "      <td>NaN</td>\n",
              "      <td>0.2140</td>\n",
              "      <td>7.210000</td>\n",
              "      <td>NaN</td>\n",
              "      <td>0.824</td>\n",
              "      <td>0.433</td>\n",
              "      <td>NaN</td>\n",
              "      <td>Sk</td>\n",
              "      <td>S</td>\n",
              "      <td>N</td>\n",
              "      <td>N</td>\n",
              "      <td>1.034540</td>\n",
              "    </tr>\n",
              "    <tr>\n",
              "      <th>3</th>\n",
              "      <td>4 Vesta</td>\n",
              "      <td>2.361418</td>\n",
              "      <td>0.088721</td>\n",
              "      <td>0.32</td>\n",
              "      <td>7.141771</td>\n",
              "      <td>103.810804</td>\n",
              "      <td>150.728541</td>\n",
              "      <td>2.151909</td>\n",
              "      <td>2.570926</td>\n",
              "      <td>3.628837</td>\n",
              "      <td>24288.0</td>\n",
              "      <td>0</td>\n",
              "      <td>9325</td>\n",
              "      <td>3.200</td>\n",
              "      <td>525.4</td>\n",
              "      <td>572.6 x 557.2 x 446.4</td>\n",
              "      <td>0.4228</td>\n",
              "      <td>5.342128</td>\n",
              "      <td>17.8000</td>\n",
              "      <td>0.782</td>\n",
              "      <td>0.492</td>\n",
              "      <td>NaN</td>\n",
              "      <td>V</td>\n",
              "      <td>V</td>\n",
              "      <td>N</td>\n",
              "      <td>N</td>\n",
              "      <td>1.139480</td>\n",
              "    </tr>\n",
              "    <tr>\n",
              "      <th>4</th>\n",
              "      <td>5 Astraea</td>\n",
              "      <td>2.574249</td>\n",
              "      <td>0.191095</td>\n",
              "      <td>NaN</td>\n",
              "      <td>5.366988</td>\n",
              "      <td>141.576604</td>\n",
              "      <td>358.687608</td>\n",
              "      <td>2.082324</td>\n",
              "      <td>3.066174</td>\n",
              "      <td>4.130323</td>\n",
              "      <td>63431.0</td>\n",
              "      <td>0</td>\n",
              "      <td>2861</td>\n",
              "      <td>6.850</td>\n",
              "      <td>106.699</td>\n",
              "      <td>NaN</td>\n",
              "      <td>0.2740</td>\n",
              "      <td>16.806000</td>\n",
              "      <td>NaN</td>\n",
              "      <td>0.826</td>\n",
              "      <td>0.411</td>\n",
              "      <td>NaN</td>\n",
              "      <td>S</td>\n",
              "      <td>S</td>\n",
              "      <td>N</td>\n",
              "      <td>N</td>\n",
              "      <td>1.095890</td>\n",
              "    </tr>\n",
              "    <tr>\n",
              "      <th>...</th>\n",
              "      <td>...</td>\n",
              "      <td>...</td>\n",
              "      <td>...</td>\n",
              "      <td>...</td>\n",
              "      <td>...</td>\n",
              "      <td>...</td>\n",
              "      <td>...</td>\n",
              "      <td>...</td>\n",
              "      <td>...</td>\n",
              "      <td>...</td>\n",
              "      <td>...</td>\n",
              "      <td>...</td>\n",
              "      <td>...</td>\n",
              "      <td>...</td>\n",
              "      <td>...</td>\n",
              "      <td>...</td>\n",
              "      <td>...</td>\n",
              "      <td>...</td>\n",
              "      <td>...</td>\n",
              "      <td>...</td>\n",
              "      <td>...</td>\n",
              "      <td>...</td>\n",
              "      <td>...</td>\n",
              "      <td>...</td>\n",
              "      <td>...</td>\n",
              "      <td>...</td>\n",
              "      <td>...</td>\n",
              "    </tr>\n",
              "    <tr>\n",
              "      <th>839731</th>\n",
              "      <td>(6344 P-L)</td>\n",
              "      <td>2.812945</td>\n",
              "      <td>0.664688</td>\n",
              "      <td>NaN</td>\n",
              "      <td>4.695700</td>\n",
              "      <td>183.310012</td>\n",
              "      <td>234.618352</td>\n",
              "      <td>0.943214</td>\n",
              "      <td>4.682676</td>\n",
              "      <td>4.717914</td>\n",
              "      <td>17298.0</td>\n",
              "      <td>0</td>\n",
              "      <td>118</td>\n",
              "      <td>20.400</td>\n",
              "      <td>NaN</td>\n",
              "      <td>NaN</td>\n",
              "      <td>NaN</td>\n",
              "      <td>NaN</td>\n",
              "      <td>NaN</td>\n",
              "      <td>NaN</td>\n",
              "      <td>NaN</td>\n",
              "      <td>NaN</td>\n",
              "      <td>NaN</td>\n",
              "      <td>NaN</td>\n",
              "      <td>Y</td>\n",
              "      <td>Y</td>\n",
              "      <td>0.032397</td>\n",
              "    </tr>\n",
              "    <tr>\n",
              "      <th>839732</th>\n",
              "      <td>(1168 T-2)</td>\n",
              "      <td>2.645238</td>\n",
              "      <td>0.259376</td>\n",
              "      <td>NaN</td>\n",
              "      <td>12.574937</td>\n",
              "      <td>1.620020</td>\n",
              "      <td>339.568072</td>\n",
              "      <td>1.959126</td>\n",
              "      <td>3.331350</td>\n",
              "      <td>4.302346</td>\n",
              "      <td>16.0</td>\n",
              "      <td>9</td>\n",
              "      <td>15</td>\n",
              "      <td>17.507</td>\n",
              "      <td>NaN</td>\n",
              "      <td>NaN</td>\n",
              "      <td>NaN</td>\n",
              "      <td>NaN</td>\n",
              "      <td>NaN</td>\n",
              "      <td>NaN</td>\n",
              "      <td>NaN</td>\n",
              "      <td>NaN</td>\n",
              "      <td>NaN</td>\n",
              "      <td>NaN</td>\n",
              "      <td>N</td>\n",
              "      <td>N</td>\n",
              "      <td>0.956145</td>\n",
              "    </tr>\n",
              "    <tr>\n",
              "      <th>839733</th>\n",
              "      <td>(2060 T-2)</td>\n",
              "      <td>2.373137</td>\n",
              "      <td>0.202053</td>\n",
              "      <td>NaN</td>\n",
              "      <td>0.732484</td>\n",
              "      <td>176.499082</td>\n",
              "      <td>198.026527</td>\n",
              "      <td>1.893638</td>\n",
              "      <td>2.852636</td>\n",
              "      <td>3.655884</td>\n",
              "      <td>5.0</td>\n",
              "      <td>9</td>\n",
              "      <td>6</td>\n",
              "      <td>18.071</td>\n",
              "      <td>NaN</td>\n",
              "      <td>NaN</td>\n",
              "      <td>NaN</td>\n",
              "      <td>NaN</td>\n",
              "      <td>NaN</td>\n",
              "      <td>NaN</td>\n",
              "      <td>NaN</td>\n",
              "      <td>NaN</td>\n",
              "      <td>NaN</td>\n",
              "      <td>NaN</td>\n",
              "      <td>N</td>\n",
              "      <td>N</td>\n",
              "      <td>0.893896</td>\n",
              "    </tr>\n",
              "    <tr>\n",
              "      <th>839734</th>\n",
              "      <td>(2678 T-3)</td>\n",
              "      <td>2.260404</td>\n",
              "      <td>0.258348</td>\n",
              "      <td>NaN</td>\n",
              "      <td>9.661947</td>\n",
              "      <td>204.512448</td>\n",
              "      <td>148.496988</td>\n",
              "      <td>1.676433</td>\n",
              "      <td>2.844376</td>\n",
              "      <td>3.398501</td>\n",
              "      <td>10.0</td>\n",
              "      <td>9</td>\n",
              "      <td>13</td>\n",
              "      <td>18.060</td>\n",
              "      <td>NaN</td>\n",
              "      <td>NaN</td>\n",
              "      <td>NaN</td>\n",
              "      <td>NaN</td>\n",
              "      <td>NaN</td>\n",
              "      <td>NaN</td>\n",
              "      <td>NaN</td>\n",
              "      <td>NaN</td>\n",
              "      <td>NaN</td>\n",
              "      <td>NaN</td>\n",
              "      <td>N</td>\n",
              "      <td>N</td>\n",
              "      <td>0.680220</td>\n",
              "    </tr>\n",
              "    <tr>\n",
              "      <th>839735</th>\n",
              "      <td>(4571 T-3)</td>\n",
              "      <td>2.546442</td>\n",
              "      <td>0.287672</td>\n",
              "      <td>NaN</td>\n",
              "      <td>5.356238</td>\n",
              "      <td>70.709555</td>\n",
              "      <td>273.483265</td>\n",
              "      <td>1.813901</td>\n",
              "      <td>3.278983</td>\n",
              "      <td>4.063580</td>\n",
              "      <td>11.0</td>\n",
              "      <td>9</td>\n",
              "      <td>11</td>\n",
              "      <td>17.406</td>\n",
              "      <td>NaN</td>\n",
              "      <td>NaN</td>\n",
              "      <td>NaN</td>\n",
              "      <td>NaN</td>\n",
              "      <td>NaN</td>\n",
              "      <td>NaN</td>\n",
              "      <td>NaN</td>\n",
              "      <td>NaN</td>\n",
              "      <td>NaN</td>\n",
              "      <td>NaN</td>\n",
              "      <td>N</td>\n",
              "      <td>N</td>\n",
              "      <td>0.815280</td>\n",
              "    </tr>\n",
              "  </tbody>\n",
              "</table>\n",
              "<p>839736 rows × 27 columns</p>\n",
              "</div>"
            ],
            "text/plain": [
              "                full_name         a         e     G          i          om  \\\n",
              "0                 1 Ceres  2.769165  0.076009  0.12  10.594067   80.305532   \n",
              "1                2 Pallas  2.772466  0.230337  0.11  34.836234  173.080063   \n",
              "2                  3 Juno  2.669150  0.256942  0.32  12.988919  169.852760   \n",
              "3                 4 Vesta  2.361418  0.088721  0.32   7.141771  103.810804   \n",
              "4               5 Astraea  2.574249  0.191095   NaN   5.366988  141.576604   \n",
              "...                   ...       ...       ...   ...        ...         ...   \n",
              "839731         (6344 P-L)  2.812945  0.664688   NaN   4.695700  183.310012   \n",
              "839732         (1168 T-2)  2.645238  0.259376   NaN  12.574937    1.620020   \n",
              "839733         (2060 T-2)  2.373137  0.202053   NaN   0.732484  176.499082   \n",
              "839734         (2678 T-3)  2.260404  0.258348   NaN   9.661947  204.512448   \n",
              "839735         (4571 T-3)  2.546442  0.287672   NaN   5.356238   70.709555   \n",
              "\n",
              "                 w         q        ad     per_y  data_arc condition_code  \\\n",
              "0        73.597694  2.558684  2.979647  4.608202    8822.0              0   \n",
              "1       310.048857  2.133865  3.411067  4.616444   72318.0              0   \n",
              "2       248.138626  1.983332  3.354967  4.360814   72684.0              0   \n",
              "3       150.728541  2.151909  2.570926  3.628837   24288.0              0   \n",
              "4       358.687608  2.082324  3.066174  4.130323   63431.0              0   \n",
              "...            ...       ...       ...       ...       ...            ...   \n",
              "839731  234.618352  0.943214  4.682676  4.717914   17298.0              0   \n",
              "839732  339.568072  1.959126  3.331350  4.302346      16.0              9   \n",
              "839733  198.026527  1.893638  2.852636  3.655884       5.0              9   \n",
              "839734  148.496988  1.676433  2.844376  3.398501      10.0              9   \n",
              "839735  273.483265  1.813901  3.278983  4.063580      11.0              9   \n",
              "\n",
              "        n_obs_used       H diameter                 extent  albedo    rot_per  \\\n",
              "0             1002   3.340    939.4  964.4 x 964.2 x 891.8  0.0900   9.074170   \n",
              "1             8490   4.130      545            582x556x500  0.1010   7.813200   \n",
              "2             7104   5.330  246.596                    NaN  0.2140   7.210000   \n",
              "3             9325   3.200    525.4  572.6 x 557.2 x 446.4  0.4228   5.342128   \n",
              "4             2861   6.850  106.699                    NaN  0.2740  16.806000   \n",
              "...            ...     ...      ...                    ...     ...        ...   \n",
              "839731         118  20.400      NaN                    NaN     NaN        NaN   \n",
              "839732          15  17.507      NaN                    NaN     NaN        NaN   \n",
              "839733           6  18.071      NaN                    NaN     NaN        NaN   \n",
              "839734          13  18.060      NaN                    NaN     NaN        NaN   \n",
              "839735          11  17.406      NaN                    NaN     NaN        NaN   \n",
              "\n",
              "             GM     BV     UB  IR spec_B spec_T neo pha      moid  \n",
              "0       62.6284  0.713  0.426 NaN      C      G   N   N  1.594780  \n",
              "1       14.3000  0.635  0.284 NaN      B      B   N   N  1.233240  \n",
              "2           NaN  0.824  0.433 NaN     Sk      S   N   N  1.034540  \n",
              "3       17.8000  0.782  0.492 NaN      V      V   N   N  1.139480  \n",
              "4           NaN  0.826  0.411 NaN      S      S   N   N  1.095890  \n",
              "...         ...    ...    ...  ..    ...    ...  ..  ..       ...  \n",
              "839731      NaN    NaN    NaN NaN    NaN    NaN   Y   Y  0.032397  \n",
              "839732      NaN    NaN    NaN NaN    NaN    NaN   N   N  0.956145  \n",
              "839733      NaN    NaN    NaN NaN    NaN    NaN   N   N  0.893896  \n",
              "839734      NaN    NaN    NaN NaN    NaN    NaN   N   N  0.680220  \n",
              "839735      NaN    NaN    NaN NaN    NaN    NaN   N   N  0.815280  \n",
              "\n",
              "[839736 rows x 27 columns]"
            ]
          },
          "metadata": {},
          "execution_count": 11
        }
      ]
    },
    {
      "cell_type": "markdown",
      "metadata": {
        "id": "FBlivz2mRmu2"
      },
      "source": [
        "The dataset contains 27 columns and 8 Lakh rows."
      ],
      "id": "FBlivz2mRmu2"
    },
    {
      "cell_type": "code",
      "metadata": {
        "id": "6f97661f"
      },
      "source": [
        ""
      ],
      "id": "6f97661f",
      "execution_count": null,
      "outputs": []
    },
    {
      "cell_type": "markdown",
      "metadata": {
        "id": "da5e8590"
      },
      "source": [
        "## Preprocessing and Feature Engineering\n",
        "Removing redundant data dropping unnecessary columns and rows. Selecting meaningful data."
      ],
      "id": "da5e8590"
    },
    {
      "cell_type": "code",
      "metadata": {
        "colab": {
          "base_uri": "https://localhost:8080/",
          "height": 0
        },
        "id": "dxjXDbsqaA78",
        "outputId": "198fd8e9-cd44-4080-b1b1-37f8ac285bb1"
      },
      "source": [
        "asteroid_df.info()"
      ],
      "id": "dxjXDbsqaA78",
      "execution_count": 12,
      "outputs": [
        {
          "output_type": "stream",
          "name": "stdout",
          "text": [
            "<class 'pandas.core.frame.DataFrame'>\n",
            "RangeIndex: 839736 entries, 0 to 839735\n",
            "Data columns (total 27 columns):\n",
            " #   Column          Non-Null Count   Dtype  \n",
            "---  ------          --------------   -----  \n",
            " 0   full_name       839736 non-null  object \n",
            " 1   a               839734 non-null  float64\n",
            " 2   e               839736 non-null  float64\n",
            " 3   G               119 non-null     float64\n",
            " 4   i               839736 non-null  float64\n",
            " 5   om              839736 non-null  float64\n",
            " 6   w               839736 non-null  float64\n",
            " 7   q               839736 non-null  float64\n",
            " 8   ad              839730 non-null  float64\n",
            " 9   per_y           839735 non-null  float64\n",
            " 10  data_arc        823947 non-null  float64\n",
            " 11  condition_code  838743 non-null  object \n",
            " 12  n_obs_used      839736 non-null  int64  \n",
            " 13  H               837042 non-null  float64\n",
            " 14  diameter        137681 non-null  object \n",
            " 15  extent          18 non-null      object \n",
            " 16  albedo          136452 non-null  float64\n",
            " 17  rot_per         18796 non-null   float64\n",
            " 18  GM              14 non-null      float64\n",
            " 19  BV              1021 non-null    float64\n",
            " 20  UB              979 non-null     float64\n",
            " 21  IR              1 non-null       float64\n",
            " 22  spec_B          1666 non-null    object \n",
            " 23  spec_T          980 non-null     object \n",
            " 24  neo             839730 non-null  object \n",
            " 25  pha             822814 non-null  object \n",
            " 26  moid            822814 non-null  float64\n",
            "dtypes: float64(18), int64(1), object(8)\n",
            "memory usage: 173.0+ MB\n"
          ]
        }
      ]
    },
    {
      "cell_type": "markdown",
      "metadata": {
        "id": "LZ-EhnuXTcQ5"
      },
      "source": [
        "The goal of the project is to predict the diameter so all the rows that have missing diameter values need to be dropped."
      ],
      "id": "LZ-EhnuXTcQ5"
    },
    {
      "cell_type": "code",
      "metadata": {
        "id": "a73aa81a"
      },
      "source": [
        "asteroid_df.dropna(subset=['diameter'], inplace=True)"
      ],
      "id": "a73aa81a",
      "execution_count": 13,
      "outputs": []
    },
    {
      "cell_type": "markdown",
      "metadata": {
        "id": "RuxxjQGCSIer"
      },
      "source": [
        "Some columns may have very few entries. pd.info() is used to get an idea of all the null values."
      ],
      "id": "RuxxjQGCSIer"
    },
    {
      "cell_type": "code",
      "metadata": {
        "colab": {
          "base_uri": "https://localhost:8080/",
          "height": 0
        },
        "id": "a5ad4475",
        "outputId": "e66468ff-cdc6-499d-eaee-c98349138eb5"
      },
      "source": [
        "asteroid_df.info()"
      ],
      "id": "a5ad4475",
      "execution_count": 14,
      "outputs": [
        {
          "output_type": "stream",
          "name": "stdout",
          "text": [
            "<class 'pandas.core.frame.DataFrame'>\n",
            "Int64Index: 137681 entries, 0 to 810411\n",
            "Data columns (total 27 columns):\n",
            " #   Column          Non-Null Count   Dtype  \n",
            "---  ------          --------------   -----  \n",
            " 0   full_name       137681 non-null  object \n",
            " 1   a               137681 non-null  float64\n",
            " 2   e               137681 non-null  float64\n",
            " 3   G               119 non-null     float64\n",
            " 4   i               137681 non-null  float64\n",
            " 5   om              137681 non-null  float64\n",
            " 6   w               137681 non-null  float64\n",
            " 7   q               137681 non-null  float64\n",
            " 8   ad              137681 non-null  float64\n",
            " 9   per_y           137681 non-null  float64\n",
            " 10  data_arc        137541 non-null  float64\n",
            " 11  condition_code  137681 non-null  object \n",
            " 12  n_obs_used      137681 non-null  int64  \n",
            " 13  H               136930 non-null  float64\n",
            " 14  diameter        137681 non-null  object \n",
            " 15  extent          16 non-null      object \n",
            " 16  albedo          136449 non-null  float64\n",
            " 17  rot_per         11188 non-null   float64\n",
            " 18  GM              14 non-null      float64\n",
            " 19  BV              1005 non-null    float64\n",
            " 20  UB              965 non-null     float64\n",
            " 21  IR              1 non-null       float64\n",
            " 22  spec_B          1370 non-null    object \n",
            " 23  spec_T          965 non-null     object \n",
            " 24  neo             137681 non-null  object \n",
            " 25  pha             137681 non-null  object \n",
            " 26  moid            137681 non-null  float64\n",
            "dtypes: float64(18), int64(1), object(8)\n",
            "memory usage: 29.4+ MB\n"
          ]
        }
      ]
    },
    {
      "cell_type": "code",
      "metadata": {
        "colab": {
          "base_uri": "https://localhost:8080/",
          "height": 0
        },
        "id": "b5e59d7a",
        "outputId": "d615d579-bc86-49e0-8786-cb19e912d595"
      },
      "source": [
        "asteroid_df['G'].isna().sum()"
      ],
      "id": "b5e59d7a",
      "execution_count": 15,
      "outputs": [
        {
          "output_type": "execute_result",
          "data": {
            "text/plain": [
              "137562"
            ]
          },
          "metadata": {},
          "execution_count": 15
        }
      ]
    },
    {
      "cell_type": "markdown",
      "metadata": {
        "id": "zy_b2-nfUrK6"
      },
      "source": [
        "We can also use the df.isna() to get a list of boolean values indicating whether the value in the rows are missing or not and then use the sum() function to get the total count. The 'G' column (Gravitation) has 137562 missing values."
      ],
      "id": "zy_b2-nfUrK6"
    },
    {
      "cell_type": "code",
      "metadata": {
        "colab": {
          "base_uri": "https://localhost:8080/",
          "height": 0
        },
        "id": "ddec1a22",
        "outputId": "2700a620-a749-4c26-ffb3-28d60f5e5316"
      },
      "source": [
        "asteroid_df['spec_T'].isna().sum()"
      ],
      "id": "ddec1a22",
      "execution_count": 16,
      "outputs": [
        {
          "output_type": "execute_result",
          "data": {
            "text/plain": [
              "136716"
            ]
          },
          "metadata": {},
          "execution_count": 16
        }
      ]
    },
    {
      "cell_type": "markdown",
      "metadata": {
        "id": "D2cfb4cLWihP"
      },
      "source": [
        "Similarly 'spec_T' column has 136716 missing values."
      ],
      "id": "D2cfb4cLWihP"
    },
    {
      "cell_type": "code",
      "metadata": {
        "id": "b091fb8b",
        "scrolled": true
      },
      "source": [
        "asteroid_df.drop(columns=['G','extent','GM','BV','UB','IR','spec_B','spec_T','rot_per'], inplace=True)"
      ],
      "id": "b091fb8b",
      "execution_count": 17,
      "outputs": []
    },
    {
      "cell_type": "markdown",
      "metadata": {
        "id": "DUK0sJHnWxsb"
      },
      "source": [
        "The columns which have a large number of missing/nan/null values can be dropped."
      ],
      "id": "DUK0sJHnWxsb"
    },
    {
      "cell_type": "code",
      "metadata": {
        "colab": {
          "base_uri": "https://localhost:8080/",
          "height": 0
        },
        "id": "992782df",
        "outputId": "d97c7ab4-b466-44da-e848-88a9717dab9a"
      },
      "source": [
        "asteroid_df.info()"
      ],
      "id": "992782df",
      "execution_count": 18,
      "outputs": [
        {
          "output_type": "stream",
          "name": "stdout",
          "text": [
            "<class 'pandas.core.frame.DataFrame'>\n",
            "Int64Index: 137681 entries, 0 to 810411\n",
            "Data columns (total 18 columns):\n",
            " #   Column          Non-Null Count   Dtype  \n",
            "---  ------          --------------   -----  \n",
            " 0   full_name       137681 non-null  object \n",
            " 1   a               137681 non-null  float64\n",
            " 2   e               137681 non-null  float64\n",
            " 3   i               137681 non-null  float64\n",
            " 4   om              137681 non-null  float64\n",
            " 5   w               137681 non-null  float64\n",
            " 6   q               137681 non-null  float64\n",
            " 7   ad              137681 non-null  float64\n",
            " 8   per_y           137681 non-null  float64\n",
            " 9   data_arc        137541 non-null  float64\n",
            " 10  condition_code  137681 non-null  object \n",
            " 11  n_obs_used      137681 non-null  int64  \n",
            " 12  H               136930 non-null  float64\n",
            " 13  diameter        137681 non-null  object \n",
            " 14  albedo          136449 non-null  float64\n",
            " 15  neo             137681 non-null  object \n",
            " 16  pha             137681 non-null  object \n",
            " 17  moid            137681 non-null  float64\n",
            "dtypes: float64(12), int64(1), object(5)\n",
            "memory usage: 20.0+ MB\n"
          ]
        }
      ]
    },
    {
      "cell_type": "code",
      "metadata": {
        "colab": {
          "base_uri": "https://localhost:8080/",
          "height": 88
        },
        "id": "zX4B6r6u7YRv",
        "outputId": "d68e629f-eb76-459c-e8ef-99d7318eb1d4"
      },
      "source": [
        "jovian.commit(project='asteroid-prediction')"
      ],
      "id": "zX4B6r6u7YRv",
      "execution_count": 84,
      "outputs": [
        {
          "output_type": "stream",
          "name": "stdout",
          "text": [
            "[jovian] Detected Colab notebook...\u001b[0m\n",
            "[jovian] Uploading colab notebook to Jovian...\u001b[0m\n",
            "Committed successfully! https://jovian.ai/sakshatpats/asteroid-prediction\n"
          ]
        },
        {
          "output_type": "execute_result",
          "data": {
            "application/vnd.google.colaboratory.intrinsic+json": {
              "type": "string"
            },
            "text/plain": [
              "'https://jovian.ai/sakshatpats/asteroid-prediction'"
            ]
          },
          "metadata": {},
          "execution_count": 84
        }
      ]
    },
    {
      "cell_type": "markdown",
      "metadata": {
        "id": "df090e68"
      },
      "source": [
        "#### Input and Target Columns\n",
        "For splitting the data into input and target columns, train_test_splitfrom sklearn can be used. 60% of the data is used for training, 20% for validation and 20% for testing."
      ],
      "id": "df090e68"
    },
    {
      "cell_type": "code",
      "metadata": {
        "id": "dcdbf393"
      },
      "source": [
        "from sklearn.model_selection import train_test_split\n",
        "train_val_df, test_df = train_test_split(asteroid_df, test_size=0.2, random_state=42)\n",
        "train_df, val_df = train_test_split(train_val_df, test_size=0.25, random_state=42)"
      ],
      "id": "dcdbf393",
      "execution_count": 20,
      "outputs": []
    },
    {
      "cell_type": "markdown",
      "metadata": {
        "id": "c3Q1dPDLayLv"
      },
      "source": [
        "'diameter' and 'full_name' cannot be used as inputs and we shall drop them."
      ],
      "id": "c3Q1dPDLayLv"
    },
    {
      "cell_type": "code",
      "metadata": {
        "id": "b878de1d"
      },
      "source": [
        "input_col = list(asteroid_df.drop(['diameter','full_name'], axis=1).columns.values)"
      ],
      "id": "b878de1d",
      "execution_count": 21,
      "outputs": []
    },
    {
      "cell_type": "code",
      "metadata": {
        "colab": {
          "base_uri": "https://localhost:8080/",
          "height": 0
        },
        "id": "bc517521",
        "outputId": "a052cc81-2b57-42b5-bce7-4cb0e4546752"
      },
      "source": [
        "input_col"
      ],
      "id": "bc517521",
      "execution_count": 22,
      "outputs": [
        {
          "output_type": "execute_result",
          "data": {
            "text/plain": [
              "['a',\n",
              " 'e',\n",
              " 'i',\n",
              " 'om',\n",
              " 'w',\n",
              " 'q',\n",
              " 'ad',\n",
              " 'per_y',\n",
              " 'data_arc',\n",
              " 'condition_code',\n",
              " 'n_obs_used',\n",
              " 'H',\n",
              " 'albedo',\n",
              " 'neo',\n",
              " 'pha',\n",
              " 'moid']"
            ]
          },
          "metadata": {},
          "execution_count": 22
        }
      ]
    },
    {
      "cell_type": "code",
      "metadata": {
        "id": "51118b2c"
      },
      "source": [
        "target_col='diameter'"
      ],
      "id": "51118b2c",
      "execution_count": 23,
      "outputs": []
    },
    {
      "cell_type": "markdown",
      "metadata": {
        "id": "eMKQ68LAbowj"
      },
      "source": [
        "In the below cell we are making a copy for future use."
      ],
      "id": "eMKQ68LAbowj"
    },
    {
      "cell_type": "code",
      "metadata": {
        "id": "4a994b68"
      },
      "source": [
        "train_inputs = train_df[input_col].copy()\n",
        "train_targets = train_df[target_col].copy()\n",
        "val_inputs = val_df[input_col].copy()\n",
        "val_targets = val_df[target_col].copy()\n",
        "test_inputs = test_df[input_col].copy()\n",
        "test_targets = test_df[target_col].copy()"
      ],
      "id": "4a994b68",
      "execution_count": 24,
      "outputs": []
    },
    {
      "cell_type": "markdown",
      "metadata": {
        "id": "ebc06917"
      },
      "source": [
        "#### Numerical and Categorical columns\n",
        "Identifying the numerical and categorical columns for scaling and one hot encoding.\n",
        "\n",
        "\n"
      ],
      "id": "ebc06917"
    },
    {
      "cell_type": "code",
      "metadata": {
        "id": "d3963f20"
      },
      "source": [
        "numeric_cols = train_inputs.select_dtypes('number').columns.tolist()\n",
        "categorical_cols = train_inputs.select_dtypes('object').columns.tolist()[1:]"
      ],
      "id": "d3963f20",
      "execution_count": 25,
      "outputs": []
    },
    {
      "cell_type": "code",
      "metadata": {
        "colab": {
          "base_uri": "https://localhost:8080/",
          "height": 0
        },
        "id": "6c446b3a",
        "outputId": "c583f2c9-8502-4b43-a3d0-5503445d6edc"
      },
      "source": [
        "categorical_cols"
      ],
      "id": "6c446b3a",
      "execution_count": 26,
      "outputs": [
        {
          "output_type": "execute_result",
          "data": {
            "text/plain": [
              "['neo', 'pha']"
            ]
          },
          "metadata": {},
          "execution_count": 26
        }
      ]
    },
    {
      "cell_type": "code",
      "metadata": {
        "colab": {
          "base_uri": "https://localhost:8080/",
          "height": 0
        },
        "id": "2f3ca2f7",
        "outputId": "b39098ed-915c-4865-955e-546df25e4dca"
      },
      "source": [
        "numeric_cols"
      ],
      "id": "2f3ca2f7",
      "execution_count": 27,
      "outputs": [
        {
          "output_type": "execute_result",
          "data": {
            "text/plain": [
              "['a',\n",
              " 'e',\n",
              " 'i',\n",
              " 'om',\n",
              " 'w',\n",
              " 'q',\n",
              " 'ad',\n",
              " 'per_y',\n",
              " 'data_arc',\n",
              " 'n_obs_used',\n",
              " 'H',\n",
              " 'albedo',\n",
              " 'moid']"
            ]
          },
          "metadata": {},
          "execution_count": 27
        }
      ]
    },
    {
      "cell_type": "markdown",
      "metadata": {
        "id": "43a43816"
      },
      "source": [
        "#### Imputing Missing Values\n",
        "Missing values are imputed using SimpleImputer from scikit-learn."
      ],
      "id": "43a43816"
    },
    {
      "cell_type": "code",
      "metadata": {
        "id": "1b815210"
      },
      "source": [
        "from sklearn.impute import SimpleImputer\n",
        "imputer = SimpleImputer(strategy = 'mean')"
      ],
      "id": "1b815210",
      "execution_count": 28,
      "outputs": []
    },
    {
      "cell_type": "code",
      "metadata": {
        "colab": {
          "base_uri": "https://localhost:8080/",
          "height": 0
        },
        "id": "e01f93b4",
        "outputId": "dd0c309e-8c53-46dd-b118-f44d6c9e7433"
      },
      "source": [
        "imputer.fit(asteroid_df[['data_arc','H','albedo']])# fitting the data to the imputer"
      ],
      "id": "e01f93b4",
      "execution_count": 29,
      "outputs": [
        {
          "output_type": "execute_result",
          "data": {
            "text/plain": [
              "SimpleImputer()"
            ]
          },
          "metadata": {},
          "execution_count": 29
        }
      ]
    },
    {
      "cell_type": "code",
      "metadata": {
        "id": "3d2afc6e"
      },
      "source": [
        "train_inputs[['data_arc','H','albedo']] = imputer.transform(train_inputs[['albedo','H','data_arc']])\n",
        "val_inputs[['data_arc','H','albedo']] = imputer.transform(val_inputs[['albedo','H','data_arc']])\n",
        "test_inputs[['data_arc','H','albedo']] = imputer.transform(test_inputs[['albedo','H','data_arc']])"
      ],
      "id": "3d2afc6e",
      "execution_count": 30,
      "outputs": []
    },
    {
      "cell_type": "code",
      "metadata": {
        "colab": {
          "base_uri": "https://localhost:8080/",
          "height": 0
        },
        "id": "5a3f7527",
        "outputId": "161b36aa-40ca-4ad7-c44f-bd534740d593"
      },
      "source": [
        "train_inputs.isna().sum()"
      ],
      "id": "5a3f7527",
      "execution_count": 31,
      "outputs": [
        {
          "output_type": "execute_result",
          "data": {
            "text/plain": [
              "a                 0\n",
              "e                 0\n",
              "i                 0\n",
              "om                0\n",
              "w                 0\n",
              "q                 0\n",
              "ad                0\n",
              "per_y             0\n",
              "data_arc          0\n",
              "condition_code    0\n",
              "n_obs_used        0\n",
              "H                 0\n",
              "albedo            0\n",
              "neo               0\n",
              "pha               0\n",
              "moid              0\n",
              "dtype: int64"
            ]
          },
          "metadata": {},
          "execution_count": 31
        }
      ]
    },
    {
      "cell_type": "markdown",
      "metadata": {
        "id": "EQAgU_GKdD_Y"
      },
      "source": [
        "As shown, all missing values are imputed."
      ],
      "id": "EQAgU_GKdD_Y"
    },
    {
      "cell_type": "code",
      "metadata": {
        "id": "0002052d"
      },
      "source": [
        ""
      ],
      "id": "0002052d",
      "execution_count": 31,
      "outputs": []
    },
    {
      "cell_type": "markdown",
      "metadata": {
        "id": "d4f55d8d"
      },
      "source": [
        "#### Scale Numeric Values\n",
        "Feature Scaling is a technique to standardize the independent features present in the data in a fixed range. It is done using MinMaxScaler from scikit-learn."
      ],
      "id": "d4f55d8d"
    },
    {
      "cell_type": "code",
      "metadata": {
        "id": "e65cd557"
      },
      "source": [
        "from sklearn.preprocessing import MinMaxScaler"
      ],
      "id": "e65cd557",
      "execution_count": 32,
      "outputs": []
    },
    {
      "cell_type": "code",
      "metadata": {
        "id": "6a5040f9"
      },
      "source": [
        "scaler = MinMaxScaler()"
      ],
      "id": "6a5040f9",
      "execution_count": 33,
      "outputs": []
    },
    {
      "cell_type": "code",
      "metadata": {
        "colab": {
          "base_uri": "https://localhost:8080/",
          "height": 0
        },
        "id": "bd9bab2e",
        "outputId": "eda491fc-85c9-4aa5-c020-03a706e3b1a9"
      },
      "source": [
        "scaler.fit(asteroid_df[numeric_cols])"
      ],
      "id": "bd9bab2e",
      "execution_count": 34,
      "outputs": [
        {
          "output_type": "execute_result",
          "data": {
            "text/plain": [
              "MinMaxScaler()"
            ]
          },
          "metadata": {},
          "execution_count": 34
        }
      ]
    },
    {
      "cell_type": "code",
      "metadata": {
        "id": "63340bee"
      },
      "source": [
        "train_inputs[numeric_cols] = scaler.transform(train_inputs[numeric_cols])\n",
        "val_inputs[numeric_cols] = scaler.transform(val_inputs[numeric_cols])\n",
        "test_inputs[numeric_cols] = scaler.transform(test_inputs[numeric_cols])"
      ],
      "id": "63340bee",
      "execution_count": 35,
      "outputs": []
    },
    {
      "cell_type": "markdown",
      "metadata": {
        "id": "7770ec79"
      },
      "source": [
        "#### Encode Categorical Columns\n",
        "Categorical variables need to be converted into a form that can be provided to models to do a better job in prediction. One hot encoding is used in this project."
      ],
      "id": "7770ec79"
    },
    {
      "cell_type": "code",
      "metadata": {
        "id": "eca39c3b"
      },
      "source": [
        "from sklearn.preprocessing import OneHotEncoder\n",
        "encoder = OneHotEncoder(sparse=False, handle_unknown='ignore')"
      ],
      "id": "eca39c3b",
      "execution_count": 36,
      "outputs": []
    },
    {
      "cell_type": "code",
      "metadata": {
        "colab": {
          "base_uri": "https://localhost:8080/",
          "height": 0
        },
        "id": "79cbe73e",
        "outputId": "a25c4794-f0ff-4eae-d4f4-ac6a6e63bf16"
      },
      "source": [
        "encoder.fit(asteroid_df[categorical_cols])"
      ],
      "id": "79cbe73e",
      "execution_count": 37,
      "outputs": [
        {
          "output_type": "execute_result",
          "data": {
            "text/plain": [
              "OneHotEncoder(handle_unknown='ignore', sparse=False)"
            ]
          },
          "metadata": {},
          "execution_count": 37
        }
      ]
    },
    {
      "cell_type": "code",
      "metadata": {
        "colab": {
          "base_uri": "https://localhost:8080/",
          "height": 0
        },
        "id": "7e3a2459",
        "outputId": "e22f1ce0-459c-438d-fb44-c089263df622"
      },
      "source": [
        "encoder.categories_"
      ],
      "id": "7e3a2459",
      "execution_count": 38,
      "outputs": [
        {
          "output_type": "execute_result",
          "data": {
            "text/plain": [
              "[array(['N', 'Y'], dtype=object), array(['N', 'Y'], dtype=object)]"
            ]
          },
          "metadata": {},
          "execution_count": 38
        }
      ]
    },
    {
      "cell_type": "code",
      "metadata": {
        "id": "d2b05fd7"
      },
      "source": [
        "encoded_cols = list(encoder.get_feature_names(categorical_cols))"
      ],
      "id": "d2b05fd7",
      "execution_count": 39,
      "outputs": []
    },
    {
      "cell_type": "code",
      "metadata": {
        "id": "27e31b66"
      },
      "source": [
        "train_inputs[encoded_cols] = encoder.transform(train_inputs[categorical_cols])\n",
        "val_inputs[encoded_cols] = encoder.transform(val_inputs[categorical_cols])\n",
        "test_inputs[encoded_cols] = encoder.transform(test_inputs[categorical_cols])"
      ],
      "id": "27e31b66",
      "execution_count": 40,
      "outputs": []
    },
    {
      "cell_type": "markdown",
      "metadata": {
        "id": "6a0e9f36"
      },
      "source": [
        "## Model 1: Random Forests\n",
        "\n",
        "A random forest is a model used to solve regression and classification problems. It utilizes ensemble learning, which is a technique that combines many classifiers to provide solutions to complex problems. A random forest algorithm consists of many decision trees.\n",
        "\n",
        "We shall use RandomForestRegressor from scikit-learn. Let's begin by identifying the input columns."
      ],
      "id": "6a0e9f36"
    },
    {
      "cell_type": "code",
      "metadata": {
        "colab": {
          "base_uri": "https://localhost:8080/",
          "height": 414
        },
        "id": "c6fdc116",
        "outputId": "f6afb71e-75d7-48e2-a2bc-5d49a8f52d89"
      },
      "source": [
        "train_inputs[numeric_cols + encoded_cols]"
      ],
      "id": "c6fdc116",
      "execution_count": 41,
      "outputs": [
        {
          "output_type": "execute_result",
          "data": {
            "text/html": [
              "<div>\n",
              "<style scoped>\n",
              "    .dataframe tbody tr th:only-of-type {\n",
              "        vertical-align: middle;\n",
              "    }\n",
              "\n",
              "    .dataframe tbody tr th {\n",
              "        vertical-align: top;\n",
              "    }\n",
              "\n",
              "    .dataframe thead th {\n",
              "        text-align: right;\n",
              "    }\n",
              "</style>\n",
              "<table border=\"1\" class=\"dataframe\">\n",
              "  <thead>\n",
              "    <tr style=\"text-align: right;\">\n",
              "      <th></th>\n",
              "      <th>a</th>\n",
              "      <th>e</th>\n",
              "      <th>i</th>\n",
              "      <th>om</th>\n",
              "      <th>w</th>\n",
              "      <th>q</th>\n",
              "      <th>ad</th>\n",
              "      <th>per_y</th>\n",
              "      <th>data_arc</th>\n",
              "      <th>n_obs_used</th>\n",
              "      <th>H</th>\n",
              "      <th>albedo</th>\n",
              "      <th>moid</th>\n",
              "      <th>neo_N</th>\n",
              "      <th>neo_Y</th>\n",
              "      <th>pha_N</th>\n",
              "      <th>pha_Y</th>\n",
              "    </tr>\n",
              "  </thead>\n",
              "  <tbody>\n",
              "    <tr>\n",
              "      <th>89153</th>\n",
              "      <td>0.005599</td>\n",
              "      <td>0.030140</td>\n",
              "      <td>0.003417</td>\n",
              "      <td>0.178098</td>\n",
              "      <td>0.087967</td>\n",
              "      <td>0.065250</td>\n",
              "      <td>0.002445</td>\n",
              "      <td>0.000546</td>\n",
              "      <td>-0.000013</td>\n",
              "      <td>0.043884</td>\n",
              "      <td>0.479401</td>\n",
              "      <td>9317.316316</td>\n",
              "      <td>0.043882</td>\n",
              "      <td>1.0</td>\n",
              "      <td>0.0</td>\n",
              "      <td>1.0</td>\n",
              "      <td>0.0</td>\n",
              "    </tr>\n",
              "    <tr>\n",
              "      <th>147802</th>\n",
              "      <td>0.006383</td>\n",
              "      <td>0.199592</td>\n",
              "      <td>0.010448</td>\n",
              "      <td>0.162343</td>\n",
              "      <td>0.781839</td>\n",
              "      <td>0.059749</td>\n",
              "      <td>0.003524</td>\n",
              "      <td>0.000649</td>\n",
              "      <td>-0.000013</td>\n",
              "      <td>0.033798</td>\n",
              "      <td>0.468165</td>\n",
              "      <td>6710.709710</td>\n",
              "      <td>0.037611</td>\n",
              "      <td>1.0</td>\n",
              "      <td>0.0</td>\n",
              "      <td>1.0</td>\n",
              "      <td>0.0</td>\n",
              "    </tr>\n",
              "    <tr>\n",
              "      <th>471459</th>\n",
              "      <td>0.006628</td>\n",
              "      <td>0.233484</td>\n",
              "      <td>0.080491</td>\n",
              "      <td>0.634999</td>\n",
              "      <td>0.122727</td>\n",
              "      <td>0.058998</td>\n",
              "      <td>0.003810</td>\n",
              "      <td>0.000682</td>\n",
              "      <td>-0.000013</td>\n",
              "      <td>0.008155</td>\n",
              "      <td>0.490637</td>\n",
              "      <td>2767.766767</td>\n",
              "      <td>0.037186</td>\n",
              "      <td>1.0</td>\n",
              "      <td>0.0</td>\n",
              "      <td>1.0</td>\n",
              "      <td>0.0</td>\n",
              "    </tr>\n",
              "    <tr>\n",
              "      <th>241205</th>\n",
              "      <td>0.005506</td>\n",
              "      <td>0.093919</td>\n",
              "      <td>0.062855</td>\n",
              "      <td>0.648423</td>\n",
              "      <td>0.405939</td>\n",
              "      <td>0.060086</td>\n",
              "      <td>0.002622</td>\n",
              "      <td>0.000534</td>\n",
              "      <td>-0.000013</td>\n",
              "      <td>0.019528</td>\n",
              "      <td>0.479401</td>\n",
              "      <td>6084.083083</td>\n",
              "      <td>0.038450</td>\n",
              "      <td>1.0</td>\n",
              "      <td>0.0</td>\n",
              "      <td>1.0</td>\n",
              "      <td>0.0</td>\n",
              "    </tr>\n",
              "    <tr>\n",
              "      <th>227462</th>\n",
              "      <td>0.005027</td>\n",
              "      <td>0.148366</td>\n",
              "      <td>0.075401</td>\n",
              "      <td>0.702331</td>\n",
              "      <td>0.519842</td>\n",
              "      <td>0.052488</td>\n",
              "      <td>0.002538</td>\n",
              "      <td>0.000475</td>\n",
              "      <td>-0.000010</td>\n",
              "      <td>0.043455</td>\n",
              "      <td>0.471910</td>\n",
              "      <td>6805.804805</td>\n",
              "      <td>0.030812</td>\n",
              "      <td>1.0</td>\n",
              "      <td>0.0</td>\n",
              "      <td>1.0</td>\n",
              "      <td>0.0</td>\n",
              "    </tr>\n",
              "    <tr>\n",
              "      <th>...</th>\n",
              "      <td>...</td>\n",
              "      <td>...</td>\n",
              "      <td>...</td>\n",
              "      <td>...</td>\n",
              "      <td>...</td>\n",
              "      <td>...</td>\n",
              "      <td>...</td>\n",
              "      <td>...</td>\n",
              "      <td>...</td>\n",
              "      <td>...</td>\n",
              "      <td>...</td>\n",
              "      <td>...</td>\n",
              "      <td>...</td>\n",
              "      <td>...</td>\n",
              "      <td>...</td>\n",
              "      <td>...</td>\n",
              "      <td>...</td>\n",
              "    </tr>\n",
              "    <tr>\n",
              "      <th>167103</th>\n",
              "      <td>0.004505</td>\n",
              "      <td>0.142965</td>\n",
              "      <td>0.009076</td>\n",
              "      <td>0.644645</td>\n",
              "      <td>0.358023</td>\n",
              "      <td>0.048511</td>\n",
              "      <td>0.002220</td>\n",
              "      <td>0.000413</td>\n",
              "      <td>-0.000013</td>\n",
              "      <td>0.062876</td>\n",
              "      <td>0.490637</td>\n",
              "      <td>6590.589590</td>\n",
              "      <td>0.026255</td>\n",
              "      <td>1.0</td>\n",
              "      <td>0.0</td>\n",
              "      <td>1.0</td>\n",
              "      <td>0.0</td>\n",
              "    </tr>\n",
              "    <tr>\n",
              "      <th>54546</th>\n",
              "      <td>0.007111</td>\n",
              "      <td>0.034304</td>\n",
              "      <td>0.085301</td>\n",
              "      <td>0.906950</td>\n",
              "      <td>0.167325</td>\n",
              "      <td>0.079022</td>\n",
              "      <td>0.003248</td>\n",
              "      <td>0.000748</td>\n",
              "      <td>-0.000013</td>\n",
              "      <td>0.057082</td>\n",
              "      <td>0.408240</td>\n",
              "      <td>8274.273273</td>\n",
              "      <td>0.058069</td>\n",
              "      <td>1.0</td>\n",
              "      <td>0.0</td>\n",
              "      <td>1.0</td>\n",
              "      <td>0.0</td>\n",
              "    </tr>\n",
              "    <tr>\n",
              "      <th>256438</th>\n",
              "      <td>0.005266</td>\n",
              "      <td>0.261478</td>\n",
              "      <td>0.051389</td>\n",
              "      <td>0.191048</td>\n",
              "      <td>0.070235</td>\n",
              "      <td>0.047088</td>\n",
              "      <td>0.003062</td>\n",
              "      <td>0.000505</td>\n",
              "      <td>-0.000012</td>\n",
              "      <td>0.023391</td>\n",
              "      <td>0.494382</td>\n",
              "      <td>6147.146146</td>\n",
              "      <td>0.025408</td>\n",
              "      <td>1.0</td>\n",
              "      <td>0.0</td>\n",
              "      <td>1.0</td>\n",
              "      <td>0.0</td>\n",
              "    </tr>\n",
              "    <tr>\n",
              "      <th>136316</th>\n",
              "      <td>0.004609</td>\n",
              "      <td>0.282950</td>\n",
              "      <td>0.032563</td>\n",
              "      <td>0.636678</td>\n",
              "      <td>0.366948</td>\n",
              "      <td>0.041133</td>\n",
              "      <td>0.002712</td>\n",
              "      <td>0.000425</td>\n",
              "      <td>-0.000008</td>\n",
              "      <td>0.052468</td>\n",
              "      <td>0.475655</td>\n",
              "      <td>8498.497497</td>\n",
              "      <td>0.018871</td>\n",
              "      <td>1.0</td>\n",
              "      <td>0.0</td>\n",
              "      <td>1.0</td>\n",
              "      <td>0.0</td>\n",
              "    </tr>\n",
              "    <tr>\n",
              "      <th>316198</th>\n",
              "      <td>0.006487</td>\n",
              "      <td>0.251934</td>\n",
              "      <td>0.014915</td>\n",
              "      <td>0.153207</td>\n",
              "      <td>0.855859</td>\n",
              "      <td>0.056540</td>\n",
              "      <td>0.003797</td>\n",
              "      <td>0.000663</td>\n",
              "      <td>-0.000012</td>\n",
              "      <td>0.018562</td>\n",
              "      <td>0.486891</td>\n",
              "      <td>5374.373373</td>\n",
              "      <td>0.034501</td>\n",
              "      <td>1.0</td>\n",
              "      <td>0.0</td>\n",
              "      <td>1.0</td>\n",
              "      <td>0.0</td>\n",
              "    </tr>\n",
              "  </tbody>\n",
              "</table>\n",
              "<p>82608 rows × 17 columns</p>\n",
              "</div>"
            ],
            "text/plain": [
              "               a         e         i        om         w         q        ad  \\\n",
              "89153   0.005599  0.030140  0.003417  0.178098  0.087967  0.065250  0.002445   \n",
              "147802  0.006383  0.199592  0.010448  0.162343  0.781839  0.059749  0.003524   \n",
              "471459  0.006628  0.233484  0.080491  0.634999  0.122727  0.058998  0.003810   \n",
              "241205  0.005506  0.093919  0.062855  0.648423  0.405939  0.060086  0.002622   \n",
              "227462  0.005027  0.148366  0.075401  0.702331  0.519842  0.052488  0.002538   \n",
              "...          ...       ...       ...       ...       ...       ...       ...   \n",
              "167103  0.004505  0.142965  0.009076  0.644645  0.358023  0.048511  0.002220   \n",
              "54546   0.007111  0.034304  0.085301  0.906950  0.167325  0.079022  0.003248   \n",
              "256438  0.005266  0.261478  0.051389  0.191048  0.070235  0.047088  0.003062   \n",
              "136316  0.004609  0.282950  0.032563  0.636678  0.366948  0.041133  0.002712   \n",
              "316198  0.006487  0.251934  0.014915  0.153207  0.855859  0.056540  0.003797   \n",
              "\n",
              "           per_y  data_arc  n_obs_used         H       albedo      moid  \\\n",
              "89153   0.000546 -0.000013    0.043884  0.479401  9317.316316  0.043882   \n",
              "147802  0.000649 -0.000013    0.033798  0.468165  6710.709710  0.037611   \n",
              "471459  0.000682 -0.000013    0.008155  0.490637  2767.766767  0.037186   \n",
              "241205  0.000534 -0.000013    0.019528  0.479401  6084.083083  0.038450   \n",
              "227462  0.000475 -0.000010    0.043455  0.471910  6805.804805  0.030812   \n",
              "...          ...       ...         ...       ...          ...       ...   \n",
              "167103  0.000413 -0.000013    0.062876  0.490637  6590.589590  0.026255   \n",
              "54546   0.000748 -0.000013    0.057082  0.408240  8274.273273  0.058069   \n",
              "256438  0.000505 -0.000012    0.023391  0.494382  6147.146146  0.025408   \n",
              "136316  0.000425 -0.000008    0.052468  0.475655  8498.497497  0.018871   \n",
              "316198  0.000663 -0.000012    0.018562  0.486891  5374.373373  0.034501   \n",
              "\n",
              "        neo_N  neo_Y  pha_N  pha_Y  \n",
              "89153     1.0    0.0    1.0    0.0  \n",
              "147802    1.0    0.0    1.0    0.0  \n",
              "471459    1.0    0.0    1.0    0.0  \n",
              "241205    1.0    0.0    1.0    0.0  \n",
              "227462    1.0    0.0    1.0    0.0  \n",
              "...       ...    ...    ...    ...  \n",
              "167103    1.0    0.0    1.0    0.0  \n",
              "54546     1.0    0.0    1.0    0.0  \n",
              "256438    1.0    0.0    1.0    0.0  \n",
              "136316    1.0    0.0    1.0    0.0  \n",
              "316198    1.0    0.0    1.0    0.0  \n",
              "\n",
              "[82608 rows x 17 columns]"
            ]
          },
          "metadata": {},
          "execution_count": 41
        }
      ]
    },
    {
      "cell_type": "code",
      "metadata": {
        "id": "1379f9fb"
      },
      "source": [
        "from sklearn.ensemble import RandomForestRegressor"
      ],
      "id": "1379f9fb",
      "execution_count": 42,
      "outputs": []
    },
    {
      "cell_type": "code",
      "metadata": {
        "id": "4606c7b0"
      },
      "source": [
        "rf = RandomForestRegressor(n_jobs=-1, random_state=42)"
      ],
      "id": "4606c7b0",
      "execution_count": 43,
      "outputs": []
    },
    {
      "cell_type": "markdown",
      "metadata": {
        "id": "PX5Gkf3QXq-7"
      },
      "source": [
        "The above code defines the model, n_jobs=-1 is used to max out the processor capacity and random_state = 42 selects a particular set of rows so that the results do not vary each time the model is fitted."
      ],
      "id": "PX5Gkf3QXq-7"
    },
    {
      "cell_type": "markdown",
      "metadata": {
        "id": "ZbmVthexZTfn"
      },
      "source": [
        "The code in the next cell is used to fit the data to the model."
      ],
      "id": "ZbmVthexZTfn"
    },
    {
      "cell_type": "code",
      "metadata": {
        "colab": {
          "base_uri": "https://localhost:8080/",
          "height": 0
        },
        "id": "aea576b2",
        "outputId": "2d349196-eced-4337-d6b6-68d6c220cd98"
      },
      "source": [
        "rf.fit(train_inputs[numeric_cols + encoded_cols], train_targets)"
      ],
      "id": "aea576b2",
      "execution_count": 44,
      "outputs": [
        {
          "output_type": "execute_result",
          "data": {
            "text/plain": [
              "RandomForestRegressor(n_jobs=-1, random_state=42)"
            ]
          },
          "metadata": {},
          "execution_count": 44
        }
      ]
    },
    {
      "cell_type": "markdown",
      "metadata": {
        "id": "pUIrl71eZe77"
      },
      "source": [
        "The score() method will return a metric ranging from 0 to 1 giving an idea about the loss occured. The  closer to 1 the better the model but increasing the training score may result in a decrease in the validation score due to overfitting. "
      ],
      "id": "pUIrl71eZe77"
    },
    {
      "cell_type": "code",
      "metadata": {
        "colab": {
          "base_uri": "https://localhost:8080/",
          "height": 0
        },
        "id": "3d882dbe",
        "outputId": "e722fe75-2ee3-4d19-9bd4-4ab602b9ca80"
      },
      "source": [
        "rf.score(train_inputs[numeric_cols + encoded_cols], train_targets) "
      ],
      "id": "3d882dbe",
      "execution_count": 45,
      "outputs": [
        {
          "output_type": "execute_result",
          "data": {
            "text/plain": [
              "0.9882750878257214"
            ]
          },
          "metadata": {},
          "execution_count": 45
        }
      ]
    },
    {
      "cell_type": "code",
      "metadata": {
        "colab": {
          "base_uri": "https://localhost:8080/",
          "height": 0
        },
        "id": "47cace10",
        "outputId": "ba74d154-e07f-4d70-94bf-719757ee35e4"
      },
      "source": [
        "rf.score(test_inputs[numeric_cols + encoded_cols], test_targets)"
      ],
      "id": "47cace10",
      "execution_count": 46,
      "outputs": [
        {
          "output_type": "execute_result",
          "data": {
            "text/plain": [
              "0.9159834899697051"
            ]
          },
          "metadata": {},
          "execution_count": 46
        }
      ]
    },
    {
      "cell_type": "code",
      "metadata": {
        "colab": {
          "base_uri": "https://localhost:8080/",
          "height": 0
        },
        "id": "2a10ad45",
        "outputId": "52214edc-1d35-429a-c24e-34a0402c955f"
      },
      "source": [
        "rf.score(val_inputs[numeric_cols + encoded_cols], val_targets)"
      ],
      "id": "2a10ad45",
      "execution_count": 47,
      "outputs": [
        {
          "output_type": "execute_result",
          "data": {
            "text/plain": [
              "0.9782974485803546"
            ]
          },
          "metadata": {},
          "execution_count": 47
        }
      ]
    },
    {
      "cell_type": "markdown",
      "metadata": {
        "id": "0JtQAbAxXV5H"
      },
      "source": [
        "We get a score of 98.8% for the training dataset, 91.6% for the test dataset and 97.8% for the validation dataset."
      ],
      "id": "0JtQAbAxXV5H"
    },
    {
      "cell_type": "markdown",
      "metadata": {
        "id": "6H1HqXPWbJvp"
      },
      "source": [
        "We shall now define a function to calculate the root mean squared error of the predicted results and targets."
      ],
      "id": "6H1HqXPWbJvp"
    },
    {
      "cell_type": "code",
      "metadata": {
        "id": "0a4973a1"
      },
      "source": [
        "from sklearn.metrics import mean_squared_error\n",
        "\n",
        "def rmse(a, b):\n",
        "    return mean_squared_error(a, b, squared=False)"
      ],
      "id": "0a4973a1",
      "execution_count": 48,
      "outputs": []
    },
    {
      "cell_type": "code",
      "metadata": {
        "id": "50a11774"
      },
      "source": [
        "train_preds = rf.predict(train_inputs[numeric_cols + encoded_cols])"
      ],
      "id": "50a11774",
      "execution_count": 49,
      "outputs": []
    },
    {
      "cell_type": "code",
      "metadata": {
        "colab": {
          "base_uri": "https://localhost:8080/",
          "height": 0
        },
        "id": "e442d7f0",
        "outputId": "ccab96e8-27b3-4948-b536-ce321754f493"
      },
      "source": [
        "rmse(train_preds, train_targets)"
      ],
      "id": "e442d7f0",
      "execution_count": 50,
      "outputs": [
        {
          "output_type": "execute_result",
          "data": {
            "text/plain": [
              "1.0211512135610912"
            ]
          },
          "metadata": {},
          "execution_count": 50
        }
      ]
    },
    {
      "cell_type": "markdown",
      "metadata": {
        "id": "p7SqoGrwbewF"
      },
      "source": [
        "It appears that the rmse error for the training data is 1.02 units."
      ],
      "id": "p7SqoGrwbewF"
    },
    {
      "cell_type": "code",
      "metadata": {
        "id": "8044c063"
      },
      "source": [
        "val_preds = rf.predict(val_inputs[numeric_cols + encoded_cols])"
      ],
      "id": "8044c063",
      "execution_count": 51,
      "outputs": []
    },
    {
      "cell_type": "code",
      "metadata": {
        "colab": {
          "base_uri": "https://localhost:8080/",
          "height": 0
        },
        "id": "e11b72c2",
        "outputId": "1faf7ac9-eeef-4efd-97c1-e4fe17949a49"
      },
      "source": [
        "rmse(val_preds, val_targets)"
      ],
      "id": "e11b72c2",
      "execution_count": 52,
      "outputs": [
        {
          "output_type": "execute_result",
          "data": {
            "text/plain": [
              "1.2721831761235065"
            ]
          },
          "metadata": {},
          "execution_count": 52
        }
      ]
    },
    {
      "cell_type": "markdown",
      "metadata": {
        "id": "JTUFzzPpbyDW"
      },
      "source": [
        "Similarly the validation rmse is 1.27 units."
      ],
      "id": "JTUFzzPpbyDW"
    },
    {
      "cell_type": "markdown",
      "metadata": {
        "id": "9fd9dbfe"
      },
      "source": [
        "### Hyperparameter Tuning and Regularization\n",
        "The model that we are using comes with some predefined hyperparameter values. These predefined parameter values can be overfitted or not selected to the optimum. Hence we can set our own hyperparameter values for the model to decrease the rmse further. "
      ],
      "id": "9fd9dbfe"
    },
    {
      "cell_type": "markdown",
      "metadata": {
        "id": "wB6S2Vynb7ID"
      },
      "source": [
        "A function is defined in the next steps to avoid defining and fitting the model manually repetitively."
      ],
      "id": "wB6S2Vynb7ID"
    },
    {
      "cell_type": "code",
      "metadata": {
        "id": "88ebd9af"
      },
      "source": [
        "def test_param(**params):\n",
        "    test_rf = RandomForestRegressor(n_jobs=-1, random_state=42, **params)\n",
        "    test_rf.fit(train_inputs[numeric_cols + encoded_cols], train_targets)\n",
        "    train_rmse = rmse(test_rf.predict(train_inputs[numeric_cols + encoded_cols]), train_targets)\n",
        "    val_rmse = rmse(test_rf.predict(val_inputs[numeric_cols + encoded_cols]), val_targets)\n",
        "    print('Train RMSE: {}, Validation RMSE: {}'.format(train_rmse, val_rmse))"
      ],
      "id": "88ebd9af",
      "execution_count": 53,
      "outputs": []
    },
    {
      "cell_type": "markdown",
      "metadata": {
        "id": "CZ7ZmMa1re09"
      },
      "source": [
        "n_estimators is the number of trees in the model. The default value is 100."
      ],
      "id": "CZ7ZmMa1re09"
    },
    {
      "cell_type": "code",
      "metadata": {
        "colab": {
          "base_uri": "https://localhost:8080/",
          "height": 0
        },
        "id": "f57b5a65",
        "outputId": "ef40efe9-90b0-4165-b104-5dab1186f5d3"
      },
      "source": [
        "test_param(n_estimators=120)"
      ],
      "id": "f57b5a65",
      "execution_count": 54,
      "outputs": [
        {
          "output_type": "stream",
          "name": "stdout",
          "text": [
            "Train RMSE: 0.9234045512670046, Validation RMSE: 1.2709547351147126\n"
          ]
        }
      ]
    },
    {
      "cell_type": "markdown",
      "metadata": {
        "id": "YYh_MzdWrtPy"
      },
      "source": [
        "max_depth decides the depth of the tree. The deeper the tree, more the number of branches it has."
      ],
      "id": "YYh_MzdWrtPy"
    },
    {
      "cell_type": "code",
      "metadata": {
        "colab": {
          "base_uri": "https://localhost:8080/",
          "height": 0
        },
        "id": "773c56a6",
        "outputId": "d9bca32b-4a56-4954-94e4-e6bab0c8263a"
      },
      "source": [
        "test_param(n_estimators=120, max_depth=50)"
      ],
      "id": "773c56a6",
      "execution_count": 55,
      "outputs": [
        {
          "output_type": "stream",
          "name": "stdout",
          "text": [
            "Train RMSE: 0.9234058623380091, Validation RMSE: 1.270953048407198\n"
          ]
        }
      ]
    },
    {
      "cell_type": "markdown",
      "metadata": {
        "id": "1ac080b7"
      },
      "source": [
        "## Model 2: XGBoost\n",
        "The other model used is XGBoost. XGBoost is a decision-tree-based ensemble Machine Learning algorithm that uses a gradient boosting framework. XGBoost improves upon the base GBM framework through systems optimization and algorithmic enhancements."
      ],
      "id": "1ac080b7"
    },
    {
      "cell_type": "code",
      "metadata": {
        "colab": {
          "base_uri": "https://localhost:8080/",
          "height": 414
        },
        "id": "f7c3beb9",
        "outputId": "985d2875-9198-400f-8a5e-f186222dee2a"
      },
      "source": [
        "train_inputs[numeric_cols + encoded_cols]"
      ],
      "id": "f7c3beb9",
      "execution_count": 56,
      "outputs": [
        {
          "output_type": "execute_result",
          "data": {
            "text/html": [
              "<div>\n",
              "<style scoped>\n",
              "    .dataframe tbody tr th:only-of-type {\n",
              "        vertical-align: middle;\n",
              "    }\n",
              "\n",
              "    .dataframe tbody tr th {\n",
              "        vertical-align: top;\n",
              "    }\n",
              "\n",
              "    .dataframe thead th {\n",
              "        text-align: right;\n",
              "    }\n",
              "</style>\n",
              "<table border=\"1\" class=\"dataframe\">\n",
              "  <thead>\n",
              "    <tr style=\"text-align: right;\">\n",
              "      <th></th>\n",
              "      <th>a</th>\n",
              "      <th>e</th>\n",
              "      <th>i</th>\n",
              "      <th>om</th>\n",
              "      <th>w</th>\n",
              "      <th>q</th>\n",
              "      <th>ad</th>\n",
              "      <th>per_y</th>\n",
              "      <th>data_arc</th>\n",
              "      <th>n_obs_used</th>\n",
              "      <th>H</th>\n",
              "      <th>albedo</th>\n",
              "      <th>moid</th>\n",
              "      <th>neo_N</th>\n",
              "      <th>neo_Y</th>\n",
              "      <th>pha_N</th>\n",
              "      <th>pha_Y</th>\n",
              "    </tr>\n",
              "  </thead>\n",
              "  <tbody>\n",
              "    <tr>\n",
              "      <th>89153</th>\n",
              "      <td>0.005599</td>\n",
              "      <td>0.030140</td>\n",
              "      <td>0.003417</td>\n",
              "      <td>0.178098</td>\n",
              "      <td>0.087967</td>\n",
              "      <td>0.065250</td>\n",
              "      <td>0.002445</td>\n",
              "      <td>0.000546</td>\n",
              "      <td>-0.000013</td>\n",
              "      <td>0.043884</td>\n",
              "      <td>0.479401</td>\n",
              "      <td>9317.316316</td>\n",
              "      <td>0.043882</td>\n",
              "      <td>1.0</td>\n",
              "      <td>0.0</td>\n",
              "      <td>1.0</td>\n",
              "      <td>0.0</td>\n",
              "    </tr>\n",
              "    <tr>\n",
              "      <th>147802</th>\n",
              "      <td>0.006383</td>\n",
              "      <td>0.199592</td>\n",
              "      <td>0.010448</td>\n",
              "      <td>0.162343</td>\n",
              "      <td>0.781839</td>\n",
              "      <td>0.059749</td>\n",
              "      <td>0.003524</td>\n",
              "      <td>0.000649</td>\n",
              "      <td>-0.000013</td>\n",
              "      <td>0.033798</td>\n",
              "      <td>0.468165</td>\n",
              "      <td>6710.709710</td>\n",
              "      <td>0.037611</td>\n",
              "      <td>1.0</td>\n",
              "      <td>0.0</td>\n",
              "      <td>1.0</td>\n",
              "      <td>0.0</td>\n",
              "    </tr>\n",
              "    <tr>\n",
              "      <th>471459</th>\n",
              "      <td>0.006628</td>\n",
              "      <td>0.233484</td>\n",
              "      <td>0.080491</td>\n",
              "      <td>0.634999</td>\n",
              "      <td>0.122727</td>\n",
              "      <td>0.058998</td>\n",
              "      <td>0.003810</td>\n",
              "      <td>0.000682</td>\n",
              "      <td>-0.000013</td>\n",
              "      <td>0.008155</td>\n",
              "      <td>0.490637</td>\n",
              "      <td>2767.766767</td>\n",
              "      <td>0.037186</td>\n",
              "      <td>1.0</td>\n",
              "      <td>0.0</td>\n",
              "      <td>1.0</td>\n",
              "      <td>0.0</td>\n",
              "    </tr>\n",
              "    <tr>\n",
              "      <th>241205</th>\n",
              "      <td>0.005506</td>\n",
              "      <td>0.093919</td>\n",
              "      <td>0.062855</td>\n",
              "      <td>0.648423</td>\n",
              "      <td>0.405939</td>\n",
              "      <td>0.060086</td>\n",
              "      <td>0.002622</td>\n",
              "      <td>0.000534</td>\n",
              "      <td>-0.000013</td>\n",
              "      <td>0.019528</td>\n",
              "      <td>0.479401</td>\n",
              "      <td>6084.083083</td>\n",
              "      <td>0.038450</td>\n",
              "      <td>1.0</td>\n",
              "      <td>0.0</td>\n",
              "      <td>1.0</td>\n",
              "      <td>0.0</td>\n",
              "    </tr>\n",
              "    <tr>\n",
              "      <th>227462</th>\n",
              "      <td>0.005027</td>\n",
              "      <td>0.148366</td>\n",
              "      <td>0.075401</td>\n",
              "      <td>0.702331</td>\n",
              "      <td>0.519842</td>\n",
              "      <td>0.052488</td>\n",
              "      <td>0.002538</td>\n",
              "      <td>0.000475</td>\n",
              "      <td>-0.000010</td>\n",
              "      <td>0.043455</td>\n",
              "      <td>0.471910</td>\n",
              "      <td>6805.804805</td>\n",
              "      <td>0.030812</td>\n",
              "      <td>1.0</td>\n",
              "      <td>0.0</td>\n",
              "      <td>1.0</td>\n",
              "      <td>0.0</td>\n",
              "    </tr>\n",
              "    <tr>\n",
              "      <th>...</th>\n",
              "      <td>...</td>\n",
              "      <td>...</td>\n",
              "      <td>...</td>\n",
              "      <td>...</td>\n",
              "      <td>...</td>\n",
              "      <td>...</td>\n",
              "      <td>...</td>\n",
              "      <td>...</td>\n",
              "      <td>...</td>\n",
              "      <td>...</td>\n",
              "      <td>...</td>\n",
              "      <td>...</td>\n",
              "      <td>...</td>\n",
              "      <td>...</td>\n",
              "      <td>...</td>\n",
              "      <td>...</td>\n",
              "      <td>...</td>\n",
              "    </tr>\n",
              "    <tr>\n",
              "      <th>167103</th>\n",
              "      <td>0.004505</td>\n",
              "      <td>0.142965</td>\n",
              "      <td>0.009076</td>\n",
              "      <td>0.644645</td>\n",
              "      <td>0.358023</td>\n",
              "      <td>0.048511</td>\n",
              "      <td>0.002220</td>\n",
              "      <td>0.000413</td>\n",
              "      <td>-0.000013</td>\n",
              "      <td>0.062876</td>\n",
              "      <td>0.490637</td>\n",
              "      <td>6590.589590</td>\n",
              "      <td>0.026255</td>\n",
              "      <td>1.0</td>\n",
              "      <td>0.0</td>\n",
              "      <td>1.0</td>\n",
              "      <td>0.0</td>\n",
              "    </tr>\n",
              "    <tr>\n",
              "      <th>54546</th>\n",
              "      <td>0.007111</td>\n",
              "      <td>0.034304</td>\n",
              "      <td>0.085301</td>\n",
              "      <td>0.906950</td>\n",
              "      <td>0.167325</td>\n",
              "      <td>0.079022</td>\n",
              "      <td>0.003248</td>\n",
              "      <td>0.000748</td>\n",
              "      <td>-0.000013</td>\n",
              "      <td>0.057082</td>\n",
              "      <td>0.408240</td>\n",
              "      <td>8274.273273</td>\n",
              "      <td>0.058069</td>\n",
              "      <td>1.0</td>\n",
              "      <td>0.0</td>\n",
              "      <td>1.0</td>\n",
              "      <td>0.0</td>\n",
              "    </tr>\n",
              "    <tr>\n",
              "      <th>256438</th>\n",
              "      <td>0.005266</td>\n",
              "      <td>0.261478</td>\n",
              "      <td>0.051389</td>\n",
              "      <td>0.191048</td>\n",
              "      <td>0.070235</td>\n",
              "      <td>0.047088</td>\n",
              "      <td>0.003062</td>\n",
              "      <td>0.000505</td>\n",
              "      <td>-0.000012</td>\n",
              "      <td>0.023391</td>\n",
              "      <td>0.494382</td>\n",
              "      <td>6147.146146</td>\n",
              "      <td>0.025408</td>\n",
              "      <td>1.0</td>\n",
              "      <td>0.0</td>\n",
              "      <td>1.0</td>\n",
              "      <td>0.0</td>\n",
              "    </tr>\n",
              "    <tr>\n",
              "      <th>136316</th>\n",
              "      <td>0.004609</td>\n",
              "      <td>0.282950</td>\n",
              "      <td>0.032563</td>\n",
              "      <td>0.636678</td>\n",
              "      <td>0.366948</td>\n",
              "      <td>0.041133</td>\n",
              "      <td>0.002712</td>\n",
              "      <td>0.000425</td>\n",
              "      <td>-0.000008</td>\n",
              "      <td>0.052468</td>\n",
              "      <td>0.475655</td>\n",
              "      <td>8498.497497</td>\n",
              "      <td>0.018871</td>\n",
              "      <td>1.0</td>\n",
              "      <td>0.0</td>\n",
              "      <td>1.0</td>\n",
              "      <td>0.0</td>\n",
              "    </tr>\n",
              "    <tr>\n",
              "      <th>316198</th>\n",
              "      <td>0.006487</td>\n",
              "      <td>0.251934</td>\n",
              "      <td>0.014915</td>\n",
              "      <td>0.153207</td>\n",
              "      <td>0.855859</td>\n",
              "      <td>0.056540</td>\n",
              "      <td>0.003797</td>\n",
              "      <td>0.000663</td>\n",
              "      <td>-0.000012</td>\n",
              "      <td>0.018562</td>\n",
              "      <td>0.486891</td>\n",
              "      <td>5374.373373</td>\n",
              "      <td>0.034501</td>\n",
              "      <td>1.0</td>\n",
              "      <td>0.0</td>\n",
              "      <td>1.0</td>\n",
              "      <td>0.0</td>\n",
              "    </tr>\n",
              "  </tbody>\n",
              "</table>\n",
              "<p>82608 rows × 17 columns</p>\n",
              "</div>"
            ],
            "text/plain": [
              "               a         e         i        om         w         q        ad  \\\n",
              "89153   0.005599  0.030140  0.003417  0.178098  0.087967  0.065250  0.002445   \n",
              "147802  0.006383  0.199592  0.010448  0.162343  0.781839  0.059749  0.003524   \n",
              "471459  0.006628  0.233484  0.080491  0.634999  0.122727  0.058998  0.003810   \n",
              "241205  0.005506  0.093919  0.062855  0.648423  0.405939  0.060086  0.002622   \n",
              "227462  0.005027  0.148366  0.075401  0.702331  0.519842  0.052488  0.002538   \n",
              "...          ...       ...       ...       ...       ...       ...       ...   \n",
              "167103  0.004505  0.142965  0.009076  0.644645  0.358023  0.048511  0.002220   \n",
              "54546   0.007111  0.034304  0.085301  0.906950  0.167325  0.079022  0.003248   \n",
              "256438  0.005266  0.261478  0.051389  0.191048  0.070235  0.047088  0.003062   \n",
              "136316  0.004609  0.282950  0.032563  0.636678  0.366948  0.041133  0.002712   \n",
              "316198  0.006487  0.251934  0.014915  0.153207  0.855859  0.056540  0.003797   \n",
              "\n",
              "           per_y  data_arc  n_obs_used         H       albedo      moid  \\\n",
              "89153   0.000546 -0.000013    0.043884  0.479401  9317.316316  0.043882   \n",
              "147802  0.000649 -0.000013    0.033798  0.468165  6710.709710  0.037611   \n",
              "471459  0.000682 -0.000013    0.008155  0.490637  2767.766767  0.037186   \n",
              "241205  0.000534 -0.000013    0.019528  0.479401  6084.083083  0.038450   \n",
              "227462  0.000475 -0.000010    0.043455  0.471910  6805.804805  0.030812   \n",
              "...          ...       ...         ...       ...          ...       ...   \n",
              "167103  0.000413 -0.000013    0.062876  0.490637  6590.589590  0.026255   \n",
              "54546   0.000748 -0.000013    0.057082  0.408240  8274.273273  0.058069   \n",
              "256438  0.000505 -0.000012    0.023391  0.494382  6147.146146  0.025408   \n",
              "136316  0.000425 -0.000008    0.052468  0.475655  8498.497497  0.018871   \n",
              "316198  0.000663 -0.000012    0.018562  0.486891  5374.373373  0.034501   \n",
              "\n",
              "        neo_N  neo_Y  pha_N  pha_Y  \n",
              "89153     1.0    0.0    1.0    0.0  \n",
              "147802    1.0    0.0    1.0    0.0  \n",
              "471459    1.0    0.0    1.0    0.0  \n",
              "241205    1.0    0.0    1.0    0.0  \n",
              "227462    1.0    0.0    1.0    0.0  \n",
              "...       ...    ...    ...    ...  \n",
              "167103    1.0    0.0    1.0    0.0  \n",
              "54546     1.0    0.0    1.0    0.0  \n",
              "256438    1.0    0.0    1.0    0.0  \n",
              "136316    1.0    0.0    1.0    0.0  \n",
              "316198    1.0    0.0    1.0    0.0  \n",
              "\n",
              "[82608 rows x 17 columns]"
            ]
          },
          "metadata": {},
          "execution_count": 56
        }
      ]
    },
    {
      "cell_type": "markdown",
      "metadata": {
        "id": "3i18R7lgvA8D"
      },
      "source": [
        "The implementation of the model is similar to the random forests model done previously."
      ],
      "id": "3i18R7lgvA8D"
    },
    {
      "cell_type": "code",
      "metadata": {
        "id": "623aefc5"
      },
      "source": [
        "from xgboost import XGBRegressor"
      ],
      "id": "623aefc5",
      "execution_count": 57,
      "outputs": []
    },
    {
      "cell_type": "code",
      "metadata": {
        "id": "0d307fd6"
      },
      "source": [
        "model = XGBRegressor(random_state=42, n_jobs=-1, n_estimators=40, max_depth=6)"
      ],
      "id": "0d307fd6",
      "execution_count": 58,
      "outputs": []
    },
    {
      "cell_type": "code",
      "metadata": {
        "colab": {
          "base_uri": "https://localhost:8080/",
          "height": 0
        },
        "id": "645b0244",
        "outputId": "ce2d287f-4129-4dcc-83ae-29df498a1372"
      },
      "source": [
        "model.fit(train_inputs[numeric_cols + encoded_cols], train_targets)"
      ],
      "id": "645b0244",
      "execution_count": 59,
      "outputs": [
        {
          "output_type": "execute_result",
          "data": {
            "text/plain": [
              "XGBRegressor(base_score=0.5, booster='gbtree', colsample_bylevel=1,\n",
              "             colsample_bynode=1, colsample_bytree=1, gamma=0, gpu_id=-1,\n",
              "             importance_type='gain', interaction_constraints='',\n",
              "             learning_rate=0.300000012, max_delta_step=0, max_depth=6,\n",
              "             min_child_weight=1, missing=nan, monotone_constraints='()',\n",
              "             n_estimators=40, n_jobs=-1, num_parallel_tree=1, random_state=42,\n",
              "             reg_alpha=0, reg_lambda=1, scale_pos_weight=1, subsample=1,\n",
              "             tree_method='exact', validate_parameters=1, verbosity=None)"
            ]
          },
          "metadata": {},
          "execution_count": 59
        }
      ]
    },
    {
      "cell_type": "code",
      "metadata": {
        "colab": {
          "base_uri": "https://localhost:8080/",
          "height": 0
        },
        "id": "f624540e",
        "outputId": "aed9ff6c-39e7-4e05-fc97-cf0e438920d7"
      },
      "source": [
        "model.score(train_inputs[numeric_cols + encoded_cols], train_targets) "
      ],
      "id": "f624540e",
      "execution_count": 60,
      "outputs": [
        {
          "output_type": "execute_result",
          "data": {
            "text/plain": [
              "0.995257218956483"
            ]
          },
          "metadata": {},
          "execution_count": 60
        }
      ]
    },
    {
      "cell_type": "markdown",
      "metadata": {
        "id": "e7_vw8rBvM_v"
      },
      "source": [
        "With XGBoost, we get a score of 99.5% for the training dataset."
      ],
      "id": "e7_vw8rBvM_v"
    },
    {
      "cell_type": "code",
      "metadata": {
        "colab": {
          "base_uri": "https://localhost:8080/",
          "height": 0
        },
        "id": "00f1de18",
        "outputId": "e39f3865-b359-478c-b65d-22dcfdd52368"
      },
      "source": [
        "model.score(test_inputs[numeric_cols + encoded_cols], test_targets) "
      ],
      "id": "00f1de18",
      "execution_count": 61,
      "outputs": [
        {
          "output_type": "execute_result",
          "data": {
            "text/plain": [
              "0.9113430326644758"
            ]
          },
          "metadata": {},
          "execution_count": 61
        }
      ]
    },
    {
      "cell_type": "markdown",
      "metadata": {
        "id": "KYWnnUF9vc2H"
      },
      "source": [
        "The score for the test dataset is 91.1%"
      ],
      "id": "KYWnnUF9vc2H"
    },
    {
      "cell_type": "code",
      "metadata": {
        "colab": {
          "base_uri": "https://localhost:8080/",
          "height": 0
        },
        "id": "25e15a7f",
        "outputId": "1f3ad7d8-2ef9-42d4-f1a0-800225ee3a70"
      },
      "source": [
        "model.score(val_inputs[numeric_cols + encoded_cols], val_targets) "
      ],
      "id": "25e15a7f",
      "execution_count": 62,
      "outputs": [
        {
          "output_type": "execute_result",
          "data": {
            "text/plain": [
              "0.9754576533580783"
            ]
          },
          "metadata": {},
          "execution_count": 62
        }
      ]
    },
    {
      "cell_type": "markdown",
      "metadata": {
        "id": "mMPkSBOYvjZw"
      },
      "source": [
        "And the validation score is 97.5%."
      ],
      "id": "mMPkSBOYvjZw"
    },
    {
      "cell_type": "code",
      "metadata": {
        "id": "1b9be41e"
      },
      "source": [
        "preds = model.predict(val_inputs[numeric_cols + encoded_cols])"
      ],
      "id": "1b9be41e",
      "execution_count": 63,
      "outputs": []
    },
    {
      "cell_type": "code",
      "metadata": {
        "colab": {
          "base_uri": "https://localhost:8080/",
          "height": 0
        },
        "id": "af8fa8b4",
        "outputId": "f3863d31-52ef-4546-f1a8-36ee85f5c168"
      },
      "source": [
        "rmse(preds, val_targets)"
      ],
      "id": "af8fa8b4",
      "execution_count": 64,
      "outputs": [
        {
          "output_type": "execute_result",
          "data": {
            "text/plain": [
              "1.3528582487517848"
            ]
          },
          "metadata": {},
          "execution_count": 64
        }
      ]
    },
    {
      "cell_type": "markdown",
      "metadata": {
        "id": "SJDuTNUovqYa"
      },
      "source": [
        "The root mean square error is 1.35 units."
      ],
      "id": "SJDuTNUovqYa"
    },
    {
      "cell_type": "markdown",
      "metadata": {
        "id": "323beb30"
      },
      "source": [
        "### Hyperparameter Tuning and Regularization\n",
        "The rmse error that we got for XGBoost seems to be more than that for Random Forests. The reason fo this might be because the default hyperparameters could be causing the model to overfit. "
      ],
      "id": "323beb30"
    },
    {
      "cell_type": "code",
      "metadata": {
        "code_folding": [],
        "id": "3e3bd7a6"
      },
      "source": [
        "def test_params(**params):\n",
        "    test_params_model = XGBRegressor(n_jobs=-1, random_state=42, **params)\n",
        "    test_params_model.fit(train_inputs[numeric_cols + encoded_cols], train_targets)\n",
        "    train_rmse = rmse(test_params_model.predict(train_inputs[numeric_cols + encoded_cols]), train_targets)\n",
        "    val_rmse = rmse(test_params_model.predict(val_inputs[numeric_cols + encoded_cols]), val_targets)\n",
        "    print('Train RMSE: {}, Validation RMSE: {}'.format(train_rmse, val_rmse))"
      ],
      "id": "3e3bd7a6",
      "execution_count": 65,
      "outputs": []
    },
    {
      "cell_type": "code",
      "metadata": {
        "colab": {
          "base_uri": "https://localhost:8080/",
          "height": 0
        },
        "id": "8020e479",
        "outputId": "208bc917-9a34-4e1f-a224-6c1c42baf758"
      },
      "source": [
        "test_params(n_estimators=10)"
      ],
      "id": "8020e479",
      "execution_count": 66,
      "outputs": [
        {
          "output_type": "stream",
          "name": "stdout",
          "text": [
            "Train RMSE: 1.1296840910743067, Validation RMSE: 1.4855084387720234\n"
          ]
        }
      ]
    },
    {
      "cell_type": "code",
      "metadata": {
        "colab": {
          "base_uri": "https://localhost:8080/",
          "height": 0
        },
        "id": "9abbdc33",
        "outputId": "4e1267e0-637e-4c85-b953-0560119895fd"
      },
      "source": [
        "test_params(n_estimators=60)"
      ],
      "id": "9abbdc33",
      "execution_count": 67,
      "outputs": [
        {
          "output_type": "stream",
          "name": "stdout",
          "text": [
            "Train RMSE: 0.5856458293870833, Validation RMSE: 1.3420726932191713\n"
          ]
        }
      ]
    },
    {
      "cell_type": "code",
      "metadata": {
        "colab": {
          "base_uri": "https://localhost:8080/",
          "height": 0
        },
        "id": "ff7a352f",
        "outputId": "6874bb59-88db-477f-a788-567d310b2389"
      },
      "source": [
        "test_params(n_estimators=60,max_depth=6)"
      ],
      "id": "ff7a352f",
      "execution_count": 68,
      "outputs": [
        {
          "output_type": "stream",
          "name": "stdout",
          "text": [
            "Train RMSE: 0.5856458293870833, Validation RMSE: 1.3420726932191713\n"
          ]
        }
      ]
    },
    {
      "cell_type": "code",
      "metadata": {
        "colab": {
          "base_uri": "https://localhost:8080/",
          "height": 0
        },
        "id": "54342b02",
        "outputId": "fc8782fc-c502-4ead-dece-7a740ad85491"
      },
      "source": [
        "test_params(n_estimators=60,max_depth=4)"
      ],
      "id": "54342b02",
      "execution_count": 69,
      "outputs": [
        {
          "output_type": "stream",
          "name": "stdout",
          "text": [
            "Train RMSE: 0.7630552512953918, Validation RMSE: 1.400120772073194\n"
          ]
        }
      ]
    },
    {
      "cell_type": "code",
      "metadata": {
        "colab": {
          "base_uri": "https://localhost:8080/",
          "height": 0
        },
        "id": "468e12be",
        "outputId": "d527f2be-7674-4a37-d8f2-f37f1e752403"
      },
      "source": [
        "test_params(n_estimators=60,max_depth=6,learning_rate=0.28)"
      ],
      "id": "468e12be",
      "execution_count": 70,
      "outputs": [
        {
          "output_type": "stream",
          "name": "stdout",
          "text": [
            "Train RMSE: 0.5916289127571394, Validation RMSE: 1.3201569995771643\n"
          ]
        }
      ]
    },
    {
      "cell_type": "code",
      "metadata": {
        "colab": {
          "base_uri": "https://localhost:8080/",
          "height": 0
        },
        "id": "23a91d3b",
        "outputId": "5f7a9977-a94c-4056-8ee2-023d4e61b3df"
      },
      "source": [
        "test_params(n_estimators=60,max_depth=6,learning_rate=0.275) "
      ],
      "id": "23a91d3b",
      "execution_count": 71,
      "outputs": [
        {
          "output_type": "stream",
          "name": "stdout",
          "text": [
            "Train RMSE: 0.5939672514207308, Validation RMSE: 1.2582054842625998\n"
          ]
        }
      ]
    },
    {
      "cell_type": "markdown",
      "metadata": {
        "id": "U41DoYzYxRZt"
      },
      "source": [
        "By changing the n_estimators, max_depth and learning_rate parameters we have reduced the rmse error."
      ],
      "id": "U41DoYzYxRZt"
    },
    {
      "cell_type": "code",
      "metadata": {
        "colab": {
          "base_uri": "https://localhost:8080/",
          "height": 0
        },
        "id": "844b13e4",
        "outputId": "7edcf83a-7b05-487a-d733-bbb8abc22773"
      },
      "source": [
        "test_params(n_estimators=100,max_depth=6,learning_rate=0.275)"
      ],
      "id": "844b13e4",
      "execution_count": 72,
      "outputs": [
        {
          "output_type": "stream",
          "name": "stdout",
          "text": [
            "Train RMSE: 0.5239645871519669, Validation RMSE: 1.2574682880050911\n"
          ]
        }
      ]
    },
    {
      "cell_type": "markdown",
      "metadata": {
        "id": "85651657"
      },
      "source": [
        "## Putting it Together and Making Predictions\n",
        "We will now be making sample prediction using the best model obtained."
      ],
      "id": "85651657"
    },
    {
      "cell_type": "code",
      "metadata": {
        "id": "a3aa7f33"
      },
      "source": [
        "final_model = XGBRegressor(random_state=42, n_jobs=-1, n_estimators=100, max_depth=6, learning_rate=0.275)"
      ],
      "id": "a3aa7f33",
      "execution_count": 73,
      "outputs": []
    },
    {
      "cell_type": "code",
      "metadata": {
        "colab": {
          "base_uri": "https://localhost:8080/",
          "height": 0
        },
        "id": "423cda06",
        "outputId": "2036794c-2f15-4274-c16f-67771c943a72"
      },
      "source": [
        "final_model.fit(train_inputs[numeric_cols + encoded_cols], train_targets)"
      ],
      "id": "423cda06",
      "execution_count": 74,
      "outputs": [
        {
          "output_type": "execute_result",
          "data": {
            "text/plain": [
              "XGBRegressor(base_score=0.5, booster='gbtree', colsample_bylevel=1,\n",
              "             colsample_bynode=1, colsample_bytree=1, gamma=0, gpu_id=-1,\n",
              "             importance_type='gain', interaction_constraints='',\n",
              "             learning_rate=0.275, max_delta_step=0, max_depth=6,\n",
              "             min_child_weight=1, missing=nan, monotone_constraints='()',\n",
              "             n_estimators=100, n_jobs=-1, num_parallel_tree=1, random_state=42,\n",
              "             reg_alpha=0, reg_lambda=1, scale_pos_weight=1, subsample=1,\n",
              "             tree_method='exact', validate_parameters=1, verbosity=None)"
            ]
          },
          "metadata": {},
          "execution_count": 74
        }
      ]
    },
    {
      "cell_type": "code",
      "metadata": {
        "id": "MLCJDN_82HcK"
      },
      "source": [
        "def predict_input(model, single_input): #Defining a function to predict values.\n",
        "    sample_input_df = pd.DataFrame([single_input])\n",
        "    #sample_input_df[numeric_cols] = imputer.transform(sample_input_df[numeric_cols])\n",
        "    sample_input_df[numeric_cols] = scaler.transform(sample_input_df[numeric_cols])\n",
        "    sample_input_df[encoded_cols] = encoder.transform(sample_input_df[categorical_cols].values)\n",
        "    return model.predict(sample_input_df[numeric_cols + encoded_cols])[0]"
      ],
      "id": "MLCJDN_82HcK",
      "execution_count": 75,
      "outputs": []
    },
    {
      "cell_type": "markdown",
      "metadata": {
        "id": "QKH5s_Y0zF8a"
      },
      "source": [
        "Selecting sample input values from the dataset to make predictions."
      ],
      "id": "QKH5s_Y0zF8a"
    },
    {
      "cell_type": "code",
      "metadata": {
        "colab": {
          "base_uri": "https://localhost:8080/",
          "height": 0
        },
        "id": "R904a-XK2IDY",
        "outputId": "85fdb37d-8135-4183-da64-7b3fff4a5353"
      },
      "source": [
        "sample_input1 = { 'a': 2.76917, 'e': 0.076009, 'i': 10.5941, 'om': 80.3055, 'w': 73.5977, 'q': 2.55868, 'ad': 2.97965, 'per_y': 4.6082, 'data_arc': 8822, 'n_obs_used': 1002, 'H': 3.34, 'albedo': 0.09, 'neo': 'N', 'pha': 'N', 'moid': 1.59478}\n",
        "sample_input1"
      ],
      "id": "R904a-XK2IDY",
      "execution_count": 76,
      "outputs": [
        {
          "output_type": "execute_result",
          "data": {
            "text/plain": [
              "{'H': 3.34,\n",
              " 'a': 2.76917,\n",
              " 'ad': 2.97965,\n",
              " 'albedo': 0.09,\n",
              " 'data_arc': 8822,\n",
              " 'e': 0.076009,\n",
              " 'i': 10.5941,\n",
              " 'moid': 1.59478,\n",
              " 'n_obs_used': 1002,\n",
              " 'neo': 'N',\n",
              " 'om': 80.3055,\n",
              " 'per_y': 4.6082,\n",
              " 'pha': 'N',\n",
              " 'q': 2.55868,\n",
              " 'w': 73.5977}"
            ]
          },
          "metadata": {},
          "execution_count": 76
        }
      ]
    },
    {
      "cell_type": "code",
      "metadata": {
        "colab": {
          "base_uri": "https://localhost:8080/",
          "height": 0
        },
        "id": "KG3ANP1E2H4K",
        "outputId": "aa79c2c7-ecb3-4612-e0c6-14d31d44e6bb"
      },
      "source": [
        "predicted_diameter = predict_input(final_model, sample_input1)\n",
        "predicted_diameter"
      ],
      "id": "KG3ANP1E2H4K",
      "execution_count": 77,
      "outputs": [
        {
          "output_type": "execute_result",
          "data": {
            "text/plain": [
              "475.83835"
            ]
          },
          "metadata": {},
          "execution_count": 77
        }
      ]
    },
    {
      "cell_type": "code",
      "metadata": {
        "colab": {
          "base_uri": "https://localhost:8080/",
          "height": 0
        },
        "id": "7772c854",
        "outputId": "3ecac136-1fdd-439b-940e-f16a2eb75781"
      },
      "source": [
        "sample_input2 = { 'a': \t2.77247, 'e': \t0.230337, 'i': 34.8362, 'om': 173.08, 'w': 310.049, 'q': 2.13386, 'ad': 3.41107, 'per_y': 4.61644, 'data_arc': 72318, 'n_obs_used': 8490, 'H': 4.13, 'albedo': 0.101, 'neo': 'N', 'pha': 'N', 'moid': 1.23324}\n",
        "sample_input2"
      ],
      "id": "7772c854",
      "execution_count": 78,
      "outputs": [
        {
          "output_type": "execute_result",
          "data": {
            "text/plain": [
              "{'H': 4.13,\n",
              " 'a': 2.77247,\n",
              " 'ad': 3.41107,\n",
              " 'albedo': 0.101,\n",
              " 'data_arc': 72318,\n",
              " 'e': 0.230337,\n",
              " 'i': 34.8362,\n",
              " 'moid': 1.23324,\n",
              " 'n_obs_used': 8490,\n",
              " 'neo': 'N',\n",
              " 'om': 173.08,\n",
              " 'per_y': 4.61644,\n",
              " 'pha': 'N',\n",
              " 'q': 2.13386,\n",
              " 'w': 310.049}"
            ]
          },
          "metadata": {},
          "execution_count": 78
        }
      ]
    },
    {
      "cell_type": "code",
      "metadata": {
        "colab": {
          "base_uri": "https://localhost:8080/",
          "height": 0
        },
        "id": "1cKidIFCM1WU",
        "outputId": "5f468f3e-31ef-428d-bca2-f5b8d844d98f"
      },
      "source": [
        "predicted_diameter = predict_input(final_model, sample_input2)\n",
        "predicted_diameter"
      ],
      "id": "1cKidIFCM1WU",
      "execution_count": 79,
      "outputs": [
        {
          "output_type": "execute_result",
          "data": {
            "text/plain": [
              "525.1071"
            ]
          },
          "metadata": {},
          "execution_count": 79
        }
      ]
    },
    {
      "cell_type": "markdown",
      "metadata": {
        "id": "uBCpt8yE0C_4"
      },
      "source": [
        "Thus the predicted diameter for the first and second sample inputs is 475.83 metres and 525.1 metres respectively."
      ],
      "id": "uBCpt8yE0C_4"
    },
    {
      "cell_type": "code",
      "metadata": {
        "colab": {
          "base_uri": "https://localhost:8080/",
          "height": 0
        },
        "id": "J9h4fEBeTTyz",
        "outputId": "a62ba710-d785-4de8-8135-00ffe90878af"
      },
      "source": [
        "print(final_model.feature_importances_)"
      ],
      "id": "J9h4fEBeTTyz",
      "execution_count": 80,
      "outputs": [
        {
          "output_type": "stream",
          "name": "stdout",
          "text": [
            "[3.9988649e-03 3.1931896e-03 6.7521416e-04 1.8536733e-03 1.1207637e-03\n",
            " 8.8873066e-02 2.0428903e-03 0.0000000e+00 6.8833821e-02 1.3945224e-03\n",
            " 8.2537103e-01 1.3099452e-03 1.3329788e-03 0.0000000e+00 0.0000000e+00\n",
            " 0.0000000e+00 0.0000000e+00]\n"
          ]
        }
      ]
    },
    {
      "cell_type": "markdown",
      "metadata": {
        "id": "xOKZwLAv0aaz"
      },
      "source": [
        "Finally we'll print and plot the important features from the model."
      ],
      "id": "xOKZwLAv0aaz"
    },
    {
      "cell_type": "code",
      "metadata": {
        "colab": {
          "base_uri": "https://localhost:8080/",
          "height": 282
        },
        "id": "eTHW17_EVFVa",
        "outputId": "cde9a0d7-cf9e-470d-f835-b3a153ec9ec7"
      },
      "source": [
        "feature_important = final_model.get_booster().get_score(importance_type='weight')\n",
        "keys = list(feature_important.keys())\n",
        "values = list(feature_important.values())\n",
        "\n",
        "data = pd.DataFrame(data=values, index=keys, columns=[\"score\"]).sort_values(by = \"score\", ascending=True)\n",
        "data.plot(kind='barh')"
      ],
      "id": "eTHW17_EVFVa",
      "execution_count": 81,
      "outputs": [
        {
          "output_type": "execute_result",
          "data": {
            "text/plain": [
              "<matplotlib.axes._subplots.AxesSubplot at 0x7f95b4af3b50>"
            ]
          },
          "metadata": {},
          "execution_count": 81
        },
        {
          "output_type": "display_data",
          "data": {
            "image/png": "[encoded data removed]",
            "text/plain": [
              "<Figure size 432x288 with 1 Axes>"
            ]
          },
          "metadata": {
            "needs_background": "light"
          }
        }
      ]
    },
    {
      "cell_type": "code",
      "metadata": {
        "colab": {
          "base_uri": "https://localhost:8080/",
          "height": 88
        },
        "id": "DNAAuVMfUKNJ",
        "outputId": "f0c42d43-4c05-4974-db4e-48d2961e74a9"
      },
      "source": [
        "jovian.commit()"
      ],
      "id": "DNAAuVMfUKNJ",
      "execution_count": 86,
      "outputs": [
        {
          "output_type": "stream",
          "name": "stdout",
          "text": [
            "[jovian] Detected Colab notebook...\u001b[0m\n",
            "[jovian] Uploading colab notebook to Jovian...\u001b[0m\n",
            "Committed successfully! https://jovian.ai/sakshatpats/asteroid-prediction\n"
          ]
        },
        {
          "output_type": "execute_result",
          "data": {
            "application/vnd.google.colaboratory.intrinsic+json": {
              "type": "string"
            },
            "text/plain": [
              "'https://jovian.ai/sakshatpats/asteroid-prediction'"
            ]
          },
          "metadata": {},
          "execution_count": 86
        }
      ]
    }
  ]
}